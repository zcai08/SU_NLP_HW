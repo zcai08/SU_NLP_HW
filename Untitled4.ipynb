{
 "cells": [
  {
   "cell_type": "code",
   "execution_count": 30,
   "id": "b2b64bee",
   "metadata": {},
   "outputs": [],
   "source": [
    "import nltk;\n",
    "grammar = nltk.CFG.fromstring(\"\"\"\n",
    "S -> NP VP\n",
    "VP -> V NP | V NP PP\n",
    "PP -> P NP\n",
    "V -> \"saw\" | \"ate\" | \"walked\"\n",
    "NP -> Prop | Det Nom\n",
    "Prop -> \"John\" | \"Mary\" | \"Bob\" \n",
    "Nom -> N | N PP\n",
    "Det -> \"a\" | \"an\" | \"the\" | \"my\"\n",
    "N -> \"man\" | \"dog\" | \"cat\" | \"telescope\" | \"park\"\n",
    "P -> \"in\" | \"on\" | \"by\" | \"with\"\n",
    "\"\"\")\n"
   ]
  },
  {
   "cell_type": "code",
   "execution_count": 31,
   "id": "c510a8f9",
   "metadata": {},
   "outputs": [],
   "source": [
    "rd_parser = nltk.RecursiveDescentParser(grammar)"
   ]
  },
  {
   "cell_type": "code",
   "execution_count": 32,
   "id": "c9c6914b",
   "metadata": {},
   "outputs": [],
   "source": [
    "senttext = \"Mary saw Bob\"\n",
    "sentlist = senttext.split()\n",
    "trees = rd_parser.parse(sentlist)"
   ]
  },
  {
   "cell_type": "code",
   "execution_count": 33,
   "id": "e063cd8c",
   "metadata": {},
   "outputs": [
    {
     "data": {
      "text/plain": [
       "nltk.tree.tree.Tree"
      ]
     },
     "execution_count": 33,
     "metadata": {},
     "output_type": "execute_result"
    }
   ],
   "source": [
    "treelist = list(trees)\n",
    "type(treelist[0]) \n"
   ]
  },
  {
   "cell_type": "code",
   "execution_count": 34,
   "id": "5fc66cbf",
   "metadata": {},
   "outputs": [
    {
     "name": "stdout",
     "output_type": "stream",
     "text": [
      "(S (NP (Prop Mary)) (VP (V saw) (NP (Prop Bob))))\n"
     ]
    }
   ],
   "source": [
    "for tree in treelist:\n",
    "    print (tree)"
   ]
  },
  {
   "cell_type": "code",
   "execution_count": 35,
   "id": "70871da3",
   "metadata": {},
   "outputs": [
    {
     "name": "stdout",
     "output_type": "stream",
     "text": [
      "(S\n",
      "  (NP (Pronoun I))\n",
      "  (VP\n",
      "    (V shot)\n",
      "    (NP (Det an) (N elephant) (PP (P in) (NP (Det my) (N pajamas))))))\n",
      "(S\n",
      "  (NP (Pronoun I))\n",
      "  (VP\n",
      "    (V shot)\n",
      "    (NP (Det an) (N elephant))\n",
      "    (PP (P in) (NP (Det my) (N pajamas)))))\n"
     ]
    }
   ],
   "source": [
    "groucho_grammar = nltk.CFG.fromstring(\"\"\"\n",
    "  S -> NP VP\n",
    "  VP -> V NP | V NP PP\n",
    "  PP -> P NP\n",
    "  V -> \"saw\" | \"ate\" | \"walked\" | \"shot\"\n",
    "  NP -> Pronoun | Prop | Det N | Det N PP\n",
    "  Prop -> \"John\" | \"Mary\" | \"Bob\"\n",
    "  Pronoun -> \"I\"\n",
    "  Det -> \"a\" | \"an\" | \"the\" | \"my\"\n",
    "  N -> \"man\" | \"dog\" | \"cat\" | \"telescope\" | \"park\" | \"elephant\" | \"pajamas\"\n",
    "  P -> \"in\" | \"on\" | \"by\" | \"with\"\n",
    "  \"\"\")\n",
    "sent4list = \"I shot an elephant in my pajamas\".split()\n",
    "rd_parser = nltk.RecursiveDescentParser(groucho_grammar)\n",
    "for tree in rd_parser.parse(sent4list):\n",
    "    print (tree)\n"
   ]
  },
  {
   "cell_type": "code",
   "execution_count": 36,
   "id": "5a08b1a4",
   "metadata": {},
   "outputs": [],
   "source": [
    "flight_grammar = nltk.CFG.fromstring(\"\"\"\n",
    "  S -> NP VP | VP\n",
    "  VP -> V NP | V NP PP\n",
    "  PP -> P NP\n",
    "  V -> \"saw\" | \"ate\" | \"walked\" | \"shot\" | \"book\"\n",
    "  NP -> Prop | Det N | Det N PP\n",
    "  Prop -> \"John\" | \"Mary\" | \"Bob\" | \"I\"\n",
    "  Det -> \"a\" | \"an\" | \"the\" | \"my\" | \"that\"\n",
    "  N -> \"man\" | \"dog\" | \"cat\" | \"telescope\" | \"park\" | \"elephant\" | \"pajamas\" | \"flight\"\n",
    "  P -> \"in\" | \"on\" | \"by\" | \"with\"\n",
    "  \"\"\")\n"
   ]
  },
  {
   "cell_type": "code",
   "execution_count": 37,
   "id": "baab2496",
   "metadata": {},
   "outputs": [
    {
     "name": "stdout",
     "output_type": "stream",
     "text": [
      "['book', 'that', 'flight']\n",
      "(S (VP (V book) (NP (Det that) (N flight))))\n"
     ]
    }
   ],
   "source": [
    "rd_parser = nltk.RecursiveDescentParser(flight_grammar)\n",
    "sent5list = 'book that flight'.split()\n",
    "print(sent5list)\n",
    "for tree in rd_parser.parse(sent5list):\n",
    "    print (tree)"
   ]
  },
  {
   "cell_type": "code",
   "execution_count": 38,
   "id": "236162e1",
   "metadata": {},
   "outputs": [],
   "source": [
    "prob_grammar = nltk.PCFG.fromstring(\"\"\"\n",
    "  S -> NP VP [0.9]| VP  [0.1]\n",
    "  VP -> TranV NP [0.3]\n",
    "  VP -> InV  [0.3]\n",
    "  VP -> DatV NP PP  [0.4]\n",
    "  PP -> P NP   [1.0]\n",
    "  TranV -> \"saw\" [0.2] | \"ate\" [0.2] | \"walked\" [0.2] | \"shot\" [0.2] | \"book\" [0.2]\n",
    "  InV -> \"ate\" [0.5] | \"walked\" [0.5]\n",
    "  DatV -> \"gave\" [0.2] | \"ate\" [0.2] | \"saw\" [0.2] | \"walked\" [0.2] | \"shot\" [0.2]\n",
    "  NP -> Prop [0.2]| Det N [0.4] | Det N PP [0.4]\n",
    "  Prop -> \"John\" [0.25]| \"Mary\" [0.25] | \"Bob\" [0.25] | \"I\" [0.25] \n",
    "  Det -> \"a\" [0.2] | \"an\" [0.2] | \"the\" [0.2] | \"my\" [0.2] | \"that\" [0.2]\n",
    "  N -> \"man\" [0.15] | \"dog\" [0.15] | \"cat\" [0.15] | \"park\" [0.15] | \"telescope\" [0.1] | \"flight\" [0.1] | \"elephant\" [0.1] | \"pajamas\" [0.1]\n",
    "  P -> \"in\" [0.2] | \"on\" [0.2] | \"by\" [0.2] | \"with\" [0.2] | \"through\" [0.2]\n",
    "  \"\"\")"
   ]
  },
  {
   "cell_type": "code",
   "execution_count": 39,
   "id": "351a6e1f",
   "metadata": {},
   "outputs": [
    {
     "name": "stdout",
     "output_type": "stream",
     "text": [
      "(S\n",
      "  (NP (Prop John))\n",
      "  (VP (TranV saw) (NP (Det a) (N telescope)))) (p=2.16e-05)\n"
     ]
    }
   ],
   "source": [
    "viterbi_parser = nltk.ViterbiParser(prob_grammar)\n",
    "for tree in viterbi_parser.parse(['John', 'saw', 'a', 'telescope']):\n",
    "    print (tree)"
   ]
  },
  {
   "cell_type": "code",
   "execution_count": 40,
   "id": "9d58600c",
   "metadata": {},
   "outputs": [],
   "source": [
    "groucho_dep_grammar = nltk. DependencyGrammar.fromstring (\"\"\"\n",
    "  'shot' -> 'I' | 'elephant' | 'in'\n",
    "  'elephant' -> 'an' | 'in'\n",
    "  'in' -> 'pajamas'\n",
    "  'pajamas' -> 'my'\n",
    "  \"\"\")"
   ]
  },
  {
   "cell_type": "code",
   "execution_count": 41,
   "id": "faf8b884",
   "metadata": {},
   "outputs": [
    {
     "name": "stdout",
     "output_type": "stream",
     "text": [
      "Dependency grammar with 7 productions\n",
      "  'shot' -> 'I'\n",
      "  'shot' -> 'elephant'\n",
      "  'shot' -> 'in'\n",
      "  'elephant' -> 'an'\n",
      "  'elephant' -> 'in'\n",
      "  'in' -> 'pajamas'\n",
      "  'pajamas' -> 'my'\n",
      "(shot I (elephant an (in (pajamas my))))\n",
      "(shot I (elephant an) (in (pajamas my)))\n"
     ]
    }
   ],
   "source": [
    "print (groucho_dep_grammar)\n",
    "pdp = nltk.ProjectiveDependencyParser(groucho_dep_grammar)\n",
    "glist = 'I shot an elephant in my pajamas'.split()\n",
    "trees = pdp.parse(glist)\n",
    "for tree in trees:\n",
    "    print (tree)"
   ]
  },
  {
   "cell_type": "code",
   "execution_count": 45,
   "id": "bdb38e57",
   "metadata": {},
   "outputs": [
    {
     "name": "stdout",
     "output_type": "stream",
     "text": [
      "['I', 'prefer', 'a', 'flight', 'through', 'Houston']\n"
     ]
    }
   ],
   "source": [
    "HW1list = \"I prefer a flight through Houston\".split()\n",
    "HW2list = \"Jack walked with the dog\".split()\n",
    "HW3list = \"John gave the dog a bone\".split()\n",
    "HW4list = \"I want to book that flight\".split()\n",
    "print(HW1list)"
   ]
  },
  {
   "cell_type": "code",
   "execution_count": null,
   "id": "9b2f875d",
   "metadata": {},
   "outputs": [],
   "source": []
  },
  {
   "cell_type": "code",
   "execution_count": 68,
   "id": "03dc46b8",
   "metadata": {},
   "outputs": [
    {
     "name": "stdout",
     "output_type": "stream",
     "text": [
      "(S\n",
      "  (NP (Prop I))\n",
      "  (VP\n",
      "    (V prefer)\n",
      "    (NP (Det a) (N flight) (PP (P through) (NP (Prop Houston))))))\n",
      "(S\n",
      "  (NP (Prop I))\n",
      "  (VP\n",
      "    (V prefer)\n",
      "    (NP (Det a) (N flight))\n",
      "    (PP (P through) (NP (Prop Houston)))))\n"
     ]
    }
   ],
   "source": [
    "HW_grammar = nltk.CFG.fromstring(\"\"\"\n",
    "  S -> NP VP | VP\n",
    "  VP -> V NP | V NP PP | V NP NP | V PP\n",
    "  PP -> P NP | P VP\n",
    "  V -> \"saw\" | \"ate\" | \"walked\" | \"shot\" | \"book\" | \"prefer\" | \"gave\" | \"want\"\n",
    "  NP -> Prop | Det N | Det N PP\n",
    "  Prop -> \"John\" | \"Mary\" | \"Bob\" | \"I\" | \"Houston\" | \"Jack\"\n",
    "  Det -> \"a\" | \"an\" | \"the\" | \"my\" | \"that\"\n",
    "  N -> \"man\" | \"dog\" | \"cat\" | \"telescope\" | \"park\" | \"elephant\" | \"pajamas\" | \"flight\" | \"bone\"\n",
    "  P -> \"in\" | \"on\" | \"by\" | \"with\" | \"through\" | \"to\"\n",
    "  \"\"\")\n",
    "rd_parser = nltk.RecursiveDescentParser(HW_grammar)\n",
    "for tree in rd_parser.parse(HW1list):\n",
    "    print (tree)"
   ]
  },
  {
   "cell_type": "code",
   "execution_count": 69,
   "id": "b674a6d5",
   "metadata": {},
   "outputs": [
    {
     "name": "stdout",
     "output_type": "stream",
     "text": [
      "(S\n",
      "  (NP (Prop Jack))\n",
      "  (VP (V walked) (PP (P with) (NP (Det the) (N dog)))))\n"
     ]
    }
   ],
   "source": [
    "for tree in rd_parser.parse(HW2list):\n",
    "    print (tree)"
   ]
  },
  {
   "cell_type": "code",
   "execution_count": 70,
   "id": "a6caa735",
   "metadata": {},
   "outputs": [
    {
     "name": "stdout",
     "output_type": "stream",
     "text": [
      "(S\n",
      "  (NP (Prop John))\n",
      "  (VP (V gave) (NP (Det the) (N dog)) (NP (Det a) (N bone))))\n"
     ]
    }
   ],
   "source": [
    "for tree in rd_parser.parse(HW3list):\n",
    "    print (tree)"
   ]
  },
  {
   "cell_type": "code",
   "execution_count": 71,
   "id": "47672eb5",
   "metadata": {},
   "outputs": [
    {
     "name": "stdout",
     "output_type": "stream",
     "text": [
      "(S\n",
      "  (NP (Prop I))\n",
      "  (VP (V want) (PP (P to) (VP (V book) (NP (Det that) (N flight))))))\n"
     ]
    }
   ],
   "source": [
    "for tree in rd_parser.parse(HW4list):\n",
    "    print (tree)"
   ]
  },
  {
   "cell_type": "code",
   "execution_count": null,
   "id": "22604fca",
   "metadata": {},
   "outputs": [],
   "source": []
  }
 ],
 "metadata": {
  "kernelspec": {
   "display_name": "Python 3 (ipykernel)",
   "language": "python",
   "name": "python3"
  },
  "language_info": {
   "codemirror_mode": {
    "name": "ipython",
    "version": 3
   },
   "file_extension": ".py",
   "mimetype": "text/x-python",
   "name": "python",
   "nbconvert_exporter": "python",
   "pygments_lexer": "ipython3",
   "version": "3.9.12"
  }
 },
 "nbformat": 4,
 "nbformat_minor": 5
}
