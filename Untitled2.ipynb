{
 "cells": [
  {
   "cell_type": "code",
   "execution_count": 1,
   "id": "a75cfb80",
   "metadata": {},
   "outputs": [],
   "source": [
    "import nltk"
   ]
  },
  {
   "cell_type": "code",
   "execution_count": 85,
   "id": "e54e4959",
   "metadata": {},
   "outputs": [
    {
     "name": "stdout",
     "output_type": "stream",
     "text": [
      "<class 'str'>\n",
      "887071\n",
      "[Emma by Jane Austen 1816]\n",
      "\n",
      "VOLUME I\n",
      "\n",
      "CHAPTER I\n",
      "\n",
      "\n",
      "Emma Woodhouse, handsome, clever, and rich, with a comfortable home\n",
      "and happy disposition, seemed to unite some of the best blessings\n",
      "of existence; and had lived nearly twenty-one years in the world\n",
      "with very little to distress or vex her.\n",
      "\n",
      "She was the youngest of the two daughters of a most affectionate,\n",
      "indulgent father; and had, in consequence of her sister's marriage,\n",
      "been mistress of his house from a very early period.  Her mother\n",
      "had died too long ago for her to have more than an indistinct\n",
      "remembrance of her caresses; and her place had been supplied\n",
      "by an excellent woman as governess, who had fallen little short\n",
      "of a mother in affection.\n",
      "\n",
      "Sixteen years had Miss Taylor been in Mr. Woodhouse's family,\n",
      "less as a governess than a friend, very fond of both daughters,\n",
      "but particularly of Emma.  Between _them_ it was more the intimacy\n",
      "of sisters.  Even before Miss Taylor had ceased to hold the nominal\n",
      "office of governess, the mildness of her temper had hardly allowed\n",
      "her to impose any restraint; and the shadow of authority being\n",
      "now long passed away, they had been living together as friend and\n",
      "friend very mutually attached, and Emma doing just what she liked;\n",
      "highly esteeming Miss Taylor's judgment, but directed chiefly by\n",
      "her own.\n",
      "\n",
      "The real evils, indeed, of Emma's situation were the power of having\n",
      "rather too much her own way, and a disposition to think a little\n",
      "too well of herself; these were the disadvantages which threatened\n",
      "alloy to her many enjoyments.  The danger, however, was at present\n",
      "so unperceived, that they did not by any means rank as misfortunes\n",
      "with her.\n",
      "\n",
      "Sorrow came--a gentle sorrow--but not at all in the shape of any\n",
      "disagreeable consciousness.--Miss Taylor married.  It was Miss\n",
      "Taylor's loss which first brought grief.  It was on the wedding-day\n",
      "of this beloved friend that Emma first sat in mournful thought\n",
      "of any continuance.  The wedding over, and the bride-people gone,\n",
      "her father and herself were left to dine together, with no prospect\n",
      "of a third to cheer a long evening.  Her father composed himself\n",
      "to sleep after dinner, as usual, and she had then only to sit\n",
      "and think of what she had lost.\n",
      "\n",
      "The event had every promise of happiness for her friend.  Mr. Weston\n",
      "was a man of unexceptionable character, easy fortune, suitable age,\n",
      "and pleasant manners; and there was some satisfaction in considering\n",
      "with what self-denying, generous friendship she had always wished\n",
      "and promoted the match; but it was a black morning's work for her.\n",
      "The want of Miss Taylor would be felt every hour of every day.\n",
      "She recalled her past kindness--the kindness, the affection of sixteen\n",
      "years--how she had taught and how she had played with her from five\n",
      "years old--how she had devoted all her powers to attach and amuse\n",
      "her in health--and how nursed her through the various illnesses\n",
      "of childhood.  A large debt of gratitude was owing here; but the\n",
      "intercourse of the last seven years, the equal footing and perfect\n",
      "unreserve which had soon followed Isabella's marriage, on their\n",
      "being left to each other, was yet a dearer, tenderer recollection.\n",
      "She had been a friend and companion such as few possessed: intelligent,\n",
      "well-informed, useful, gentle, knowing all the ways of the family,\n",
      "interested in all its concerns, and peculiarly interested in herself,\n",
      "in every pleasure, every scheme of hers--one to whom she could speak\n",
      "every thought as it arose, and who had such an affection for her\n",
      "as could never find fault.\n",
      "\n",
      "How was she to bear the change?--It was true that her friend was\n",
      "going only half a mile from them; but Emma was aware that great must\n",
      "be the difference between a Mrs. Weston, only half a mile from them,\n",
      "and a Miss Taylor in the house; and with all her advantages,\n",
      "natural and domestic, she was now in great danger of suffering\n",
      "from intellectual solitude.  She dearly loved her father, but he\n",
      "was no companion for her.  He could not meet her in conversation,\n",
      "rational or playful.\n",
      "\n",
      "The evil of the actual disparity in their ages (and Mr. Woodhouse had\n",
      "not married early) was much increased by his constitution and habits;\n",
      "for having been a valetudinarian all his life, without activity\n",
      "of mind or body, he was a much older man in ways than in years;\n",
      "and though everywhere beloved for the friendliness of his heart\n",
      "and his amiable temper, his talents could not have recommended him\n",
      "at any time.\n",
      "\n",
      "Her sister, though comparatively but little removed by matrimony,\n",
      "being settled in London, only sixteen miles off, was much beyond\n",
      "her daily reach; and many a long October and November evening must\n",
      "be struggled through at Hartfield, before Christmas brought the next\n",
      "visit from Isabella and her husband, and their little children,\n",
      "to fill the house, and give her pleasant society again.\n",
      "\n",
      "Highbury, the large and populous village, almost amounting to a town,\n",
      "to which Hartfield, in spite of its separate lawn, and shrubberies,\n",
      "and name, did really belong, afforded her no equals.  The Woodhouses\n",
      "were first in consequence there.  All looked up to them.  She had\n",
      "many acquaintance in the place, for her father was universally civil,\n",
      "but not one among them who could be accepted in lieu of Miss\n",
      "Taylor for even half a day.  It was a melancholy change; and Emma\n",
      "could not but sigh over it, and wish for impossible things,\n",
      "till her father awoke, and made it necessary to be cheerful.\n",
      "His spirits required support.  He was a nervous man, easily depressed;\n",
      "fond of every body that he was used to, and hating to part with them;\n",
      "hating change of every kind.  Matrimony, as the origin of change,\n",
      "was always disagreeable; and he was by no means yet reconciled\n",
      "to his own daughter's marrying, nor could ever speak of her but\n",
      "with compassion, though it had been entirely a match of affection,\n",
      "when he was now obliged to part with Miss Taylor too; and from\n",
      "his habits of gentle selfishness, and of being never able to\n",
      "suppose that other people could feel differently from himself,\n",
      "he was very much disposed to think Miss Taylor had done as sad\n",
      "a thing for herself as for them, and would have been a great deal\n",
      "happier if she had spent all the rest of her life at Hartfield.\n",
      "Emma smiled and chatted as cheerfully as she could, to keep him\n",
      "from such thoughts; but when tea came, it was impossible for him\n",
      "not to say exactly as he had said at dinner,\n",
      "\n",
      "\"Poor Miss Taylor!--I wish she were here again.  What a pity it\n",
      "is that Mr. Weston ever thought of her!\"\n",
      "\n",
      "\"I cannot agree with you, papa; you know I cannot.  Mr. Weston is such\n",
      "a good-humoured, pleasant, excellent man, that he thoroughly deserves\n",
      "a good wife;--and you would not have had Miss Taylor live with us\n",
      "for ever, and bear all my odd humours, when she might have a house of her own?\"\n",
      "\n",
      "\"A house of her own!--But where is the advantage of a house of her own?\n",
      "This is three times as large.--And you have never any odd humours,\n",
      "my dear.\"\n",
      "\n",
      "\"How often we shall be going to see them, and they coming to see\n",
      "us!--We shall be always meeting! _We_ must begin; we must go and pay\n",
      "wedding visit very soon.\"\n",
      "\n",
      "\"My dear, how am I to get so far? Randalls is such a distance.\n",
      "I could not walk half so far.\"\n",
      "\n",
      "\"No, papa, nobody thought of your walking.  We must go in the carriage,\n",
      "to be sure.\"\n",
      "\n",
      "\"The carriage! But James will not like to put the horses to for\n",
      "such a little way;--and where are the poor horses to be while we\n",
      "are paying our visit?\"\n",
      "\n",
      "\"They are to be put into Mr. Weston's stable, papa.  You know we\n",
      "have settled all that already.  We talked it all over with Mr. Weston\n",
      "last night.  And as for James, you may be very sure he will always like\n",
      "going to Randalls, because of his daughter's being housemaid there.\n",
      "I only doubt whether he will ever take us anywhere else.  That was\n",
      "your doing, papa.  You got Hannah that good place.  Nobody thought\n",
      "of Hannah till you mentioned her--James is so obliged to you!\"\n",
      "\n",
      "\"I am very glad I did think of her.  It was very lucky, for I would\n",
      "not have had poor James think himself slighted upon any account;\n",
      "and I am sure she will make a very good servant: she is a civil,\n",
      "pretty-spoken girl; I have a great opinion of her.  Whenever I see her,\n",
      "she always curtseys and asks me how I do, in a very pretty manner;\n",
      "and when you have had her here to do needlework, I observe she\n",
      "always turns the lock of the door the right way and never bangs it.\n",
      "I am sure she will be an excellent servant; and it will be a great\n",
      "comfort to poor Miss Taylor to have somebody about her that she is\n",
      "used to see.  Whenever James goes over to see his daughter, you know,\n",
      "she will be hearing of us.  He will be able to tell her how we\n",
      "all are.\"\n",
      "\n",
      "Emma spared no exertions to maintain this happier flow of ideas,\n",
      "and hoped, by the help of backgammon, to get her father tolerably\n",
      "through the evening, and be attacked by no regrets but her own.\n",
      "The backgammon-table was placed; but a visitor immediately afterwards\n",
      "walked in and made it unnecessary.\n",
      "\n",
      "Mr. Knightley, a sensible man about seven or eight-and-thirty, was not\n",
      "only a very old and intimate friend of the family, but particularly\n",
      "connected with it, as the elder brother of Isabella's husband.\n",
      "He lived about a mile from Highbury, was a frequent visitor,\n",
      "and always welcome, and at this time more welcome than usual,\n",
      "as coming directly from their mutual connexions in London.  He had\n",
      "returned to a late dinner, after some days' absence, and now walked\n",
      "up to Hartfield to say that all were well in Brunswick Square.\n",
      "It was a happy circumstance, and animated Mr. Woodhouse for some time.\n",
      "Mr. Knightley had a cheerful manner, which always did him good;\n",
      "and his many inquiries after \"poor Isabella\" and her children were\n",
      "answered most satisfactorily.  When this was over, Mr. Woodhouse\n",
      "gratefully observed, \"It is very kind of you, Mr. Knightley, to come\n",
      "out at this late hour to call upon us.  I am afraid you must have\n",
      "had a shocking walk.\"\n",
      "\n",
      "\"Not at all, sir.  It is a beautiful moonlight night; and so mild\n",
      "that I must draw back from your great fire.\"\n",
      "\n",
      "\"But you must have found it very damp and dirty.  I wish you may\n",
      "not catch cold.\"\n",
      "\n",
      "\"Dirty, sir! Look at my shoes.  Not a speck on them.\"\n",
      "\n",
      "\"Well! that is quite surprising, for we have had a vast deal\n",
      "of rain here.  It rained dreadfully hard for half an hour\n",
      "while we were at breakfast.  I wanted them to put off the wedding.\"\n",
      "\n",
      "\"By the bye--I have not wished you joy.  Being pretty well aware\n",
      "of what sort of joy you must both be feeling, I have been in no hurry\n",
      "with my congratulations; but I hope it all went off tolerably well.\n",
      "How did you all behave? Who cried most?\"\n",
      "\n",
      "\"Ah! poor Miss Taylor! 'Tis a sad business.\"\n",
      "\n",
      "\"Poor Mr. and Miss Woodhouse, if you please; but I cannot possibly\n",
      "say `poor Miss Taylor.' I have a great regard for you and Emma;\n",
      "but when it comes to the question of dependence or independence!--At\n",
      "any rate, it must be better to have only one to please than two.\"\n",
      "\n",
      "\"Especially when _one_ of those two is such a fanciful, troublesome creature!\"\n",
      "said Emma playfully.  \"That is what you have in your head,\n",
      "I know--and what you would certainly say if my father were not by.\"\n",
      "\n",
      "\"I believe it is very true, my dear, indeed,\" said Mr. Woodhouse,\n",
      "with a sigh.  \"I am afraid I am sometimes very fanciful and troublesome.\"\n",
      "\n",
      "\"My dearest papa! You do not think I could mean _you_, or suppose\n",
      "Mr. Knightley to mean _you_.  What a horrible idea! Oh no! I meant\n",
      "only myself.  Mr. Knightley loves to find fault with me, you know--\n",
      "in a joke--it is all a joke.  We always say what we like to one another.\"\n",
      "\n",
      "Mr. Knightley, in fact, was one of the few people who could see\n",
      "faults in Emma Woodhouse, and the only one who ever told her of them:\n",
      "and though this was not particularly agreeable to Emma herself,\n",
      "she knew it would be so much less so to her father, that she would\n",
      "not have him really suspect such a circumstance as her not being\n",
      "thought perfect by every body.\n",
      "\n",
      "\"Emma knows I never flatter her,\" said Mr. Knightley, \"but I\n",
      "meant no reflection on any body.  Miss Taylor has been used\n",
      "to have two persons to please; she will now have but one.\n",
      "The chances are that she must be a gainer.\"\n",
      "\n",
      "\"Well,\" said Emma, willing to let it pass--\"you want to hear\n",
      "about the wedding; and I shall be happy to tell you, for we all\n",
      "behaved charmingly.  Every body was punctual, every body in their\n",
      "best looks: not a tear, and hardly a long face to be seen.  Oh no;\n",
      "we all felt that we were going to be only half a mile apart,\n",
      "and were sure of meeting every day.\"\n",
      "\n",
      "\"Dear Emma bears every thing so well,\" said her father.\n",
      "\"But, Mr. Knightley, she is really very sorry to lose poor Miss Taylor,\n",
      "and I am sure she _will_ miss her more than she thinks for.\"\n",
      "\n",
      "Emma turned away her head, divided between tears and smiles.\n",
      "\"It is impossible that Emma should not miss such a companion,\"\n",
      "said Mr. Knightley.  \"We should not like her so well as we do, sir,\n",
      "if we could suppose it; but she knows how much the marriage is to\n",
      "Miss Taylor's advantage; she knows how very acceptable it must be,\n",
      "at Miss Taylor's time of life, to be settled in a home of her own,\n",
      "and how important to her to be secure of a comfortable provision,\n",
      "and therefore cannot allow herself to feel so much pain as pleasure.\n",
      "Every friend of Miss Taylor must be glad to have her so happily\n",
      "married.\"\n",
      "\n",
      "\"And you have forgotten one matter of joy to me,\" said Emma,\n",
      "\"and a very considerable one--that I made the match myself.\n",
      "I made the match, you know, four years ago; and to have it take place,\n",
      "and be proved in the right, when so many people said Mr. Weston would\n",
      "never marry again, may comfort me for any thing.\"\n",
      "\n",
      "Mr. Knightley shook his head at her.  Her father fondly replied,\n",
      "\"Ah! my dear, I wish you would not make matches and foretell things,\n",
      "for whatever you say always comes to pass.  Pray do not make any\n",
      "more matches.\"\n",
      "\n",
      "\"I promise you to make none for myself, papa; but I must, indeed,\n",
      "for other people.  It is the greatest amusement in the world! And\n",
      "after such success, you know!--Every body said that Mr. Weston would\n",
      "never marry again.  Oh dear, no! Mr. Weston, who had been a widower\n",
      "so long, and who seemed so perfectly comfortable without a wife,\n",
      "so constantly occupied either in his business in town or among his\n",
      "friends here, always acceptable wherever he went, always cheerful--\n",
      "Mr. Weston need not spend a single evening in the year alone if he did\n",
      "not like it.  Oh no! Mr. Weston certainly would never marry again.\n",
      "Some people even talked of a promise to his wife on her deathbed,\n",
      "and others of the son and the uncle not letting him.  All manner\n",
      "of solemn nonsense was talked on the subject, but I believed none\n",
      "of it.\n",
      "\n",
      "\"Ever since the day--about four years ago--that Miss Taylor and I\n",
      "met with him in Broadway Lane, when, because it began to drizzle,\n",
      "he darted away with so much gallantry, and borrowed two umbrellas\n",
      "for us from Farmer Mitchell's, I made up my mind on the subject.\n",
      "I planned the match from that hour; and when such success has blessed\n",
      "me in this instance, dear papa, you cannot think that I shall leave\n",
      "off match-making.\"\n",
      "\n",
      "\"I do not understand what you mean by `suc\n"
     ]
    }
   ],
   "source": [
    "file0 = nltk.corpus.gutenberg.fileids( ) [0]\n",
    "emmatext = nltk.corpus.gutenberg.raw(file0)\n",
    "print(type(emmatext))\n",
    "print(len(emmatext))\n",
    "emmatext[:150]\n",
    "print (emmatext[:15000])"
   ]
  },
  {
   "cell_type": "code",
   "execution_count": 8,
   "id": "f37cc7c0",
   "metadata": {},
   "outputs": [
    {
     "name": "stdout",
     "output_type": "stream",
     "text": [
      "[Emma by Jane Austen\n",
      "[\n",
      "E\n",
      "m\n",
      "m\n",
      "a\n",
      " \n",
      "b\n",
      "y\n",
      " \n",
      "J\n",
      "a\n",
      "n\n",
      "e\n",
      " \n",
      "A\n",
      "u\n",
      "s\n",
      "t\n",
      "e\n",
      "n\n"
     ]
    }
   ],
   "source": [
    "print(emmatext[:20])\n",
    "for char in emmatext[:20]:\n",
    "    print(char)"
   ]
  },
  {
   "cell_type": "code",
   "execution_count": 9,
   "id": "6040cd7c",
   "metadata": {},
   "outputs": [
    {
     "name": "stdout",
     "output_type": "stream",
     "text": [
      "[Emma by Jane Austen 1816]  VOLUME I  CHAPTER I   Emma Woodhouse, handsome, clever, and rich, with a comfortable home and happy disposition, seemed to\n"
     ]
    }
   ],
   "source": [
    "newemmatext = emmatext.replace('\\n', ' ')\n",
    "newemmatext[:150]\n",
    "print (newemmatext[:150])"
   ]
  },
  {
   "cell_type": "code",
   "execution_count": 11,
   "id": "a10b4c89",
   "metadata": {},
   "outputs": [
    {
     "data": {
      "text/plain": [
       "['That', 'book', 'is', 'interesting']"
      ]
     },
     "execution_count": 11,
     "metadata": {},
     "output_type": "execute_result"
    }
   ],
   "source": [
    "import re\n",
    "shorttext = 'That book is interesting.'\n",
    "pword = re.compile('\\w+')\n",
    "re.findall(pword, shorttext)"
   ]
  },
  {
   "cell_type": "code",
   "execution_count": 12,
   "id": "7080355e",
   "metadata": {},
   "outputs": [
    {
     "data": {
      "text/plain": [
       "['That',\n",
       " 'U',\n",
       " 'S',\n",
       " 'A',\n",
       " 'poster',\n",
       " 'print',\n",
       " 'costs',\n",
       " '12',\n",
       " '40',\n",
       " 'but',\n",
       " 'with',\n",
       " '10',\n",
       " 'off']"
      ]
     },
     "execution_count": 12,
     "metadata": {},
     "output_type": "execute_result"
    }
   ],
   "source": [
    "specialtext = 'That U.S.A. poster-print costs $12.40, but with 10% off.'\n",
    "re.findall(pword, specialtext)"
   ]
  },
  {
   "cell_type": "code",
   "execution_count": 13,
   "id": "56a307c5",
   "metadata": {},
   "outputs": [
    {
     "data": {
      "text/plain": [
       "[('That', ''),\n",
       " ('U', ''),\n",
       " ('S', ''),\n",
       " ('A', ''),\n",
       " ('poster-print', '-print'),\n",
       " ('costs', ''),\n",
       " ('12', ''),\n",
       " ('40', ''),\n",
       " ('but', ''),\n",
       " ('with', ''),\n",
       " ('10', ''),\n",
       " ('off', '')]"
      ]
     },
     "execution_count": 13,
     "metadata": {},
     "output_type": "execute_result"
    }
   ],
   "source": [
    "ptoken = re.compile('(\\w+(-\\w+)*)')\n",
    "re.findall(ptoken, specialtext)"
   ]
  },
  {
   "cell_type": "code",
   "execution_count": 14,
   "id": "304eb835",
   "metadata": {},
   "outputs": [
    {
     "data": {
      "text/plain": [
       "['end-of-line', 'character']"
      ]
     },
     "execution_count": 14,
     "metadata": {},
     "output_type": "execute_result"
    }
   ],
   "source": [
    "ptoken = re.compile('(\\w+(?:-\\w+)*)')\n",
    "re.findall(ptoken, 'end-of-line character')"
   ]
  },
  {
   "cell_type": "code",
   "execution_count": 15,
   "id": "7e2697dc",
   "metadata": {},
   "outputs": [
    {
     "data": {
      "text/plain": [
       "[('That', '', ''),\n",
       " ('U', '', ''),\n",
       " ('S', '', ''),\n",
       " ('A', '', ''),\n",
       " ('poster-print', '-print', ''),\n",
       " ('costs', '', ''),\n",
       " ('12', '', ''),\n",
       " ('40', '', ''),\n",
       " ('but', '', ''),\n",
       " ('with', '', ''),\n",
       " ('10', '', ''),\n",
       " ('off', '', '')]"
      ]
     },
     "execution_count": 15,
     "metadata": {},
     "output_type": "execute_result"
    }
   ],
   "source": [
    "ptoken = re.compile('(\\w+(-\\w+)*|([A-Z]\\.)+)')\n",
    "re.findall(ptoken, specialtext)\n"
   ]
  },
  {
   "cell_type": "code",
   "execution_count": 22,
   "id": "b45cba2b",
   "metadata": {
    "scrolled": true
   },
   "outputs": [
    {
     "data": {
      "text/plain": [
       "[('That', '', ''),\n",
       " ('U', '', ''),\n",
       " ('S', '', ''),\n",
       " ('A', '', ''),\n",
       " ('poster-print', '-print', ''),\n",
       " ('costs', '', ''),\n",
       " ('12', '', ''),\n",
       " ('40', '', ''),\n",
       " ('but', '', ''),\n",
       " ('with', '', ''),\n",
       " ('10', '', ''),\n",
       " ('off', '', '')]"
      ]
     },
     "execution_count": 22,
     "metadata": {},
     "output_type": "execute_result"
    }
   ],
   "source": [
    "ptoken = re.compile('(\\w+(-\\w+)*|([A-Z]\\.)+)')\n",
    "re.findall(ptoken, specialtext)\n"
   ]
  },
  {
   "cell_type": "code",
   "execution_count": 23,
   "id": "e947b90a",
   "metadata": {},
   "outputs": [
    {
     "data": {
      "text/plain": [
       "[('That', '', ''),\n",
       " ('U.S.A.', 'A.', ''),\n",
       " ('poster-print', '', '-print'),\n",
       " ('costs', '', ''),\n",
       " ('12', '', ''),\n",
       " ('40', '', ''),\n",
       " ('but', '', ''),\n",
       " ('with', '', ''),\n",
       " ('10', '', ''),\n",
       " ('off', '', '')]"
      ]
     },
     "execution_count": 23,
     "metadata": {},
     "output_type": "execute_result"
    }
   ],
   "source": [
    "ptoken = re.compile('(([A-Z]\\.)+|\\w+(-\\w+)*)' )\n",
    "re.findall(ptoken, specialtext)"
   ]
  },
  {
   "cell_type": "code",
   "execution_count": 24,
   "id": "aff48964",
   "metadata": {
    "scrolled": true
   },
   "outputs": [
    {
     "data": {
      "text/plain": [
       "[('U.S.A.', 'A.', '', ''),\n",
       " ('poster-print', '', '-print', ''),\n",
       " ('costs', '', '', ''),\n",
       " ('$12.40', '', '', '.40'),\n",
       " ('but', '', '', ''),\n",
       " ('with', '', '', ''),\n",
       " ('10', '', '', ''),\n",
       " ('off', '', '', '')]"
      ]
     },
     "execution_count": 24,
     "metadata": {},
     "output_type": "execute_result"
    }
   ],
   "source": [
    "ptoken = re.compile(' (([A-Z]\\.)+|\\w+(-\\w+)*|\\$?\\d+(\\.\\d+)?)')\n",
    "re.findall(ptoken, specialtext)\n"
   ]
  },
  {
   "cell_type": "code",
   "execution_count": 27,
   "id": "da9314ab",
   "metadata": {},
   "outputs": [
    {
     "data": {
      "text/plain": [
       "[('', '', 'That', '', '', ''),\n",
       " ('U.S.A.', 'A.', '', '', '', ''),\n",
       " ('', '', 'poster-print', '-print', '', ''),\n",
       " ('', '', 'costs', '', '', ''),\n",
       " ('', '', '', '', '$12.40', '.40'),\n",
       " ('', '', 'but', '', '', ''),\n",
       " ('', '', 'with', '', '', ''),\n",
       " ('', '', '10', '', '', ''),\n",
       " ('', '', 'off', '', '', '')]"
      ]
     },
     "execution_count": 27,
     "metadata": {},
     "output_type": "execute_result"
    }
   ],
   "source": [
    "ptoken = re.compile(r'''(([A-Z]\\.)+)# abbreviations, e.g. U.S.A.\n",
    "| (\\w+(-\\w+)*)# words with internal hyphens\n",
    "| (\\$?\\d+(\\.\\d+)?)# currency, like $12.40\n",
    "''', re.X)# verbose flag\n",
    "re.findall(ptoken, specialtext)"
   ]
  },
  {
   "cell_type": "code",
   "execution_count": 38,
   "id": "f61ecc69",
   "metadata": {},
   "outputs": [
    {
     "data": {
      "text/plain": [
       "[('That', '', ''),\n",
       " ('U', '', ''),\n",
       " ('S', '', ''),\n",
       " ('A', '', ''),\n",
       " ('poster', '-print', 'print'),\n",
       " ('costs', '', ''),\n",
       " ('12', '', ''),\n",
       " ('40', '', ''),\n",
       " ('but', '', ''),\n",
       " ('with', '', ''),\n",
       " ('10', '', ''),\n",
       " ('off', '', ''),\n",
       " ('abd', '-imn', 'imn')]"
      ]
     },
     "execution_count": 38,
     "metadata": {},
     "output_type": "execute_result"
    }
   ],
   "source": [
    "ptoken = re.compile('(\\w+)(-(\\w+))*')\n",
    "re.findall(ptoken, specialtext + \"abd-edf-ghl-imn\")"
   ]
  },
  {
   "cell_type": "code",
   "execution_count": 30,
   "id": "c0caae31",
   "metadata": {},
   "outputs": [
    {
     "name": "stdout",
     "output_type": "stream",
     "text": [
      "[('info', 'ischool.syr.edu.'), ('HelpfulHenry', 'syr.edu'), ('SageSue', 'syr.edu.')]\n",
      "User: info, Domain:ischool.syr.edu.\n",
      "User: HelpfulHenry, Domain:syr.edu\n",
      "User: SageSue, Domain:syr.edu.\n"
     ]
    }
   ],
   "source": [
    "email_text = \"For more information, send a request to info@ischool.syr.edu. Or you can directly contact our information staff at HelpfulHenry@syr.edu and SageSue@syr.edu.\"\n",
    "pemail = re.compile('([a-zA-Z]+)@([a-z.]+)')\n",
    "matches = re.findall(pemail, email_text)\n",
    "print(matches)\n",
    "for m in matches:\n",
    "    # format function puts each argument into the output string where the {} is\n",
    "    email = 'User: {}, Domain:{}'.format(m[0],m[1])\n",
    "    print(email)\n"
   ]
  },
  {
   "cell_type": "code",
   "execution_count": 37,
   "id": "a17d4640",
   "metadata": {},
   "outputs": [],
   "source": [
    "pattern = r''' (?x) \t\t# set flag to allow verbose regexps\n",
    "        (?:[A-Z]\\.)+    \t# abbreviations, e.g. U.S.A.\n",
    "        | \\$?\\d+(?:\\.\\d+)?%?  # currency and percentages, $12.40, 50%\n",
    "        | \\w+(?:-\\w+)*  \t# words with internal hyphens\n",
    "        | \\.\\.\\.        \t# ellipsis\n",
    "        | [][.,;\"'?():-_%#']  # separate tokens\n",
    "        '''"
   ]
  },
  {
   "cell_type": "code",
   "execution_count": 40,
   "id": "3b9d539b",
   "metadata": {},
   "outputs": [
    {
     "data": {
      "text/plain": [
       "['That', 'book', 'is', 'interesting', '.']"
      ]
     },
     "execution_count": 40,
     "metadata": {},
     "output_type": "execute_result"
    }
   ],
   "source": [
    "nltk.regexp_tokenize(shorttext, pattern)\n"
   ]
  },
  {
   "cell_type": "code",
   "execution_count": 41,
   "id": "f6091e3a",
   "metadata": {},
   "outputs": [
    {
     "data": {
      "text/plain": [
       "['That',\n",
       " 'U.S.A.',\n",
       " 'poster-print',\n",
       " 'costs',\n",
       " '$12.40',\n",
       " ',',\n",
       " 'but',\n",
       " 'with',\n",
       " '10%',\n",
       " 'off',\n",
       " '.',\n",
       " 'abd-edf-ghl-imnabd-edf-ghl-imnabd-edf-ghl-imn']"
      ]
     },
     "execution_count": 41,
     "metadata": {},
     "output_type": "execute_result"
    }
   ],
   "source": [
    "nltk.regexp_tokenize(specialtext, pattern)"
   ]
  },
  {
   "cell_type": "code",
   "execution_count": 42,
   "id": "2cde9ee9",
   "metadata": {},
   "outputs": [
    {
     "data": {
      "text/plain": [
       "['That',\n",
       " 'U.S.A.',\n",
       " 'poster-print',\n",
       " 'costs',\n",
       " '$',\n",
       " '12.40',\n",
       " ',',\n",
       " 'but',\n",
       " 'with',\n",
       " '10',\n",
       " '%',\n",
       " 'off.abd-edf-ghl-imnabd-edf-ghl-imnabd-edf-ghl-imn']"
      ]
     },
     "execution_count": 42,
     "metadata": {},
     "output_type": "execute_result"
    }
   ],
   "source": [
    "nltk.word_tokenize(specialtext)"
   ]
  },
  {
   "cell_type": "code",
   "execution_count": 43,
   "id": "2d956b51",
   "metadata": {},
   "outputs": [],
   "source": [
    "tweetPattern = r''' (?x)\t# set flag to allow verbose regexps\n",
    "      (?:https?://|www)\\S+    # simple URLs\n",
    "      | (?::-\\)|;-\\))\t\t# small list of emoticons\n",
    "      | &(?:amp|lt|gt|quot);  # XML or HTML entity\n",
    "      | \\#\\w+                 # hashtags\n",
    "      | @\\w+                  # mentions   \n",
    "      | \\d+:\\d+               # timelike pattern\n",
    "      | \\d+\\.\\d+              # number with a decimal\n",
    "      | (?:\\d+,)+?\\d{3}(?=(?:[^,]|$))   # number with a comma\n",
    "      | (?:[A-Z]\\.)+                    # simple abbreviations\n",
    "      | (?:--+)               # multiple dashes\n",
    "      | \\w+(?:-\\w+)*          # words with internal hyphens or apostrophes\n",
    "      | ['\\\".?!,:;/]+         # special characters\n",
    "      '''"
   ]
  },
  {
   "cell_type": "code",
   "execution_count": 44,
   "id": "cd455465",
   "metadata": {},
   "outputs": [],
   "source": [
    "tweet1 = \"@natalieohayre I agree #hc09 needs reform- but not by crooked politicians who r clueless about healthcare! #tcot #fishy NO GOV'T TAKEOVER!\"\n",
    "\n",
    "tweet2 = \"To Sen. Roland Burris: Affordable, quality health insurance can't wait http://bit.ly/j63je #hc09 #IL #60660\"\n",
    "\n",
    "tweet3 = \"RT @karoli: RT @Seriou: .@whitehouse I will stand w/ Obama on #healthcare,  I trust him. #p2 #tlot\""
   ]
  },
  {
   "cell_type": "code",
   "execution_count": 45,
   "id": "687de606",
   "metadata": {},
   "outputs": [
    {
     "data": {
      "text/plain": [
       "['@natalieohayre',\n",
       " 'I',\n",
       " 'agree',\n",
       " '#hc09',\n",
       " 'needs',\n",
       " 'reform',\n",
       " 'but',\n",
       " 'not',\n",
       " 'by',\n",
       " 'crooked',\n",
       " 'politicians',\n",
       " 'who',\n",
       " 'r',\n",
       " 'clueless',\n",
       " 'about',\n",
       " 'healthcare',\n",
       " '!',\n",
       " '#tcot',\n",
       " '#fishy',\n",
       " 'NO',\n",
       " 'GOV',\n",
       " \"'\",\n",
       " 'T',\n",
       " 'TAKEOVER',\n",
       " '!']"
      ]
     },
     "execution_count": 45,
     "metadata": {},
     "output_type": "execute_result"
    }
   ],
   "source": [
    "nltk.regexp_tokenize(tweet1,tweetPattern)\n"
   ]
  },
  {
   "cell_type": "code",
   "execution_count": 46,
   "id": "56603d99",
   "metadata": {},
   "outputs": [
    {
     "data": {
      "text/plain": [
       "['To',\n",
       " 'Sen',\n",
       " '.',\n",
       " 'Roland',\n",
       " 'Burris',\n",
       " ':',\n",
       " 'Affordable',\n",
       " ',',\n",
       " 'quality',\n",
       " 'health',\n",
       " 'insurance',\n",
       " 'can',\n",
       " \"'\",\n",
       " 't',\n",
       " 'wait',\n",
       " 'http://bit.ly/j63je',\n",
       " '#hc09',\n",
       " '#IL',\n",
       " '#60660']"
      ]
     },
     "execution_count": 46,
     "metadata": {},
     "output_type": "execute_result"
    }
   ],
   "source": [
    "nltk.regexp_tokenize(tweet2,tweetPattern)\n"
   ]
  },
  {
   "cell_type": "code",
   "execution_count": 47,
   "id": "c293e42b",
   "metadata": {},
   "outputs": [
    {
     "data": {
      "text/plain": [
       "['RT',\n",
       " '@karoli',\n",
       " ':',\n",
       " 'RT',\n",
       " '@Seriou',\n",
       " ':',\n",
       " '.',\n",
       " '@whitehouse',\n",
       " 'I',\n",
       " 'will',\n",
       " 'stand',\n",
       " 'w',\n",
       " '/',\n",
       " 'Obama',\n",
       " 'on',\n",
       " '#healthcare',\n",
       " ',',\n",
       " 'I',\n",
       " 'trust',\n",
       " 'him',\n",
       " '.',\n",
       " '#p2',\n",
       " '#tlot']"
      ]
     },
     "execution_count": 47,
     "metadata": {},
     "output_type": "execute_result"
    }
   ],
   "source": [
    "nltk.regexp_tokenize(tweet3,tweetPattern)\n"
   ]
  },
  {
   "cell_type": "code",
   "execution_count": 56,
   "id": "8ca38afa",
   "metadata": {},
   "outputs": [
    {
     "name": "stdout",
     "output_type": "stream",
     "text": [
      "['@natalieohayre', 'I', 'agree', '#hc09', 'needs', 'reform', '-', 'but', 'not', 'by', 'crooked', 'politicians', 'who', 'r', 'clueless', 'about', 'healthcare', '!', '#tcot', '#fishy', 'NO', \"GOV'T\", 'TAKEOVER', '!']\n"
     ]
    }
   ],
   "source": [
    "from nltk.tokenize import TweetTokenizer\n",
    "ttokenizer = TweetTokenizer()\n",
    "print(ttokenizer.tokenize(tweet1))"
   ]
  },
  {
   "cell_type": "code",
   "execution_count": 59,
   "id": "40d1ee68",
   "metadata": {},
   "outputs": [],
   "source": [
    "pattern = r''' (?x) \t\t# set flag to allow verbose regexps\n",
    "        (?:[A-Z]\\.)+    \t# abbreviations, e.g. U.S.A.\n",
    "        | \\$?\\d+(?:\\.\\d+)?%?  # currency and percentages, $12.40, 50%\n",
    "        | \\w+(?:-\\w+)*  \t# words with internal hyphens\n",
    "        | \\.\\.\\.        \t# ellipsis\n",
    "        | [][.,;\"'?():-_%#']  # separate tokens\n",
    "        '''"
   ]
  },
  {
   "cell_type": "code",
   "execution_count": 102,
   "id": "4939d3aa",
   "metadata": {},
   "outputs": [
    {
     "name": "stdout",
     "output_type": "stream",
     "text": [
      "['Mr', '.', 'Black', 'and', 'Mrs', '.', 'Brown', 'attended', 'the', 'lecture', 'by', 'Dr', '.', 'Gray', ',', 'but', 'Gov', '.', 'White', 'wasn', 't', 'there', '.']\n"
     ]
    }
   ],
   "source": [
    "exampleText = \"Mr. Black and Mrs. Brown attended the lecture by Dr. Gray, but Gov. White wasn’t there.\"\n",
    "print(nltk.regexp_tokenize(exampleText, pattern))"
   ]
  },
  {
   "cell_type": "code",
   "execution_count": 114,
   "id": "c28dade3",
   "metadata": {},
   "outputs": [],
   "source": [
    "pattern1 = r''' (?x) \t\t# set flag to allow verbose regexps\n",
    "        (?:Mr.|Mrs.|Dr.)\n",
    "        |(?:[A-Z]\\.)+    \t# abbreviations, e.g. U.S.A.\n",
    "        | \\$?\\d+(?:\\.\\d+)?%?  # currency and percentages, $12.40, 50%\n",
    "        | \\w+(?:-\\w+)*  \t# words with internal hyphens\n",
    "        | \\.\\.\\.        \t# ellipsis\n",
    "        | [][.,;\"'?():-_%#']  # separate tokens\n",
    "        '''"
   ]
  },
  {
   "cell_type": "code",
   "execution_count": 115,
   "id": "f18d38e9",
   "metadata": {},
   "outputs": [
    {
     "name": "stdout",
     "output_type": "stream",
     "text": [
      "['Mr.', 'Black', 'and', 'Mrs', '.', 'Brown', 'attended', 'the', 'lecture', 'by', 'Dr.', 'Gray', ',', 'but', 'Gov', '.', 'White', 'wasn', 't', 'there', '.']\n"
     ]
    }
   ],
   "source": [
    "print(nltk.regexp_tokenize(exampleText, pattern1))"
   ]
  },
  {
   "cell_type": "code",
   "execution_count": 121,
   "id": "87628f1d",
   "metadata": {},
   "outputs": [],
   "source": [
    "pattern2 = r''' (?x) \t\t# set flag to allow verbose regexps\n",
    "        (?:Mr.|Mrs.|Dr.)\n",
    "        |(?:[A-Z]\\.)+    \t# abbreviations, e.g. U.S.A.\n",
    "        | \\$?\\d+(?:\\.\\d+)?%?  # currency and percentages, $12.40, 50%\n",
    "        | \\w+'\\w+\n",
    "        | \\w+(?:-\\w+)*  \t# words with internal hyphens\n",
    "        | \\.\\.\\.        \t# ellipsis\n",
    "        | [][.,;\"'?():-_%#']  # separate tokens\n",
    "        '''"
   ]
  },
  {
   "cell_type": "code",
   "execution_count": 122,
   "id": "4d325476",
   "metadata": {},
   "outputs": [
    {
     "name": "stdout",
     "output_type": "stream",
     "text": [
      "['Mr.', 'Black', 'and', 'Mrs', '.', 'Brown', 'attended', 'the', 'lecture', 'by', 'Dr.', 'Gray', ',', 'but', 'Gov', '.', 'White', 'wasn', 't', 'there', '.']\n"
     ]
    }
   ],
   "source": [
    "print(nltk.regexp_tokenize(exampleText, pattern2))"
   ]
  },
  {
   "cell_type": "code",
   "execution_count": 123,
   "id": "2bdd7190",
   "metadata": {},
   "outputs": [
    {
     "name": "stdout",
     "output_type": "stream",
     "text": [
      "['Sixteen', 'years', 'had', 'Miss', 'Taylor', 'been', 'in', 'Mr.', \"Woodhouse's\", 'family', ',', 'less', 'as', 'a', 'governess', 'than', 'a', 'friend', ',', 'very', 'fond', 'of', 'both', 'daughters', ',', 'but', 'particularly', 'of', 'Emma', '.']\n"
     ]
    }
   ],
   "source": [
    "exampleText2 = \"Sixteen years had Miss Taylor been in Mr. Woodhouse's family, less as a governess than a friend, very fond of both daughters, but particularly of Emma.\"\n",
    "print(nltk.regexp_tokenize(exampleText2, pattern2))"
   ]
  },
  {
   "cell_type": "code",
   "execution_count": 119,
   "id": "6c39dd49",
   "metadata": {},
   "outputs": [],
   "source": [
    "tweetPattern1 = r''' (?x)\t# set flag to allow verbose regexps\n",
    "      (?:https?://|www)\\S+    # simple URLs\n",
    "      | (?::-\\)|;-\\))\t\t# small list of emoticons\n",
    "      | &(?:amp|lt|gt|quot);  # XML or HTML entity\n",
    "      | \\#\\w+                 # hashtags\n",
    "      | @\\w+                  # mentions   \n",
    "      | \\d+:\\d+               # timelike pattern\n",
    "      | \\d+\\.\\d+              # number with a decimal\n",
    "      | (?:\\d+,)+?\\d{3}(?=(?:[^,]|$))   # number with a comma\n",
    "      | (?:[A-Z]\\.)+                    # simple abbreviations\n",
    "      | (?:--+)               # multiple dashes\n",
    "      | \\w+(?:-\\w+)*          # words with internal hyphens or apostrophes\n",
    "      | ['\\\".?!,:;/]+         # special characters\n",
    "      '''"
   ]
  },
  {
   "cell_type": "code",
   "execution_count": 120,
   "id": "e9e53a75",
   "metadata": {},
   "outputs": [],
   "source": [
    "tweet1 = \"@natalieohayre I agree #hc09 needs reform- but not by crooked politicians who r clueless about healthcare! #tcot #fishy NO GOV'T TAKEOVER!\"\n",
    "\n",
    "tweet2 = \"To Sen. Roland Burris: Affordable, quality health insurance can't wait http://bit.ly/j63je #hc09 #IL #60660\"\n",
    "\n",
    "tweet3 = \"RT @karoli: RT @Seriou: .@whitehouse I will stand w/ Obama on #healthcare,  I trust him. #p2 #tlot\""
   ]
  },
  {
   "cell_type": "code",
   "execution_count": 111,
   "id": "f39cc521",
   "metadata": {},
   "outputs": [
    {
     "data": {
      "text/plain": [
       "['@natalieohayre',\n",
       " 'I',\n",
       " 'agree',\n",
       " '#hc09',\n",
       " 'needs',\n",
       " 'reform',\n",
       " 'but',\n",
       " 'not',\n",
       " 'by',\n",
       " 'crooked',\n",
       " 'politicians',\n",
       " 'who',\n",
       " 'r',\n",
       " 'clueless',\n",
       " 'about',\n",
       " 'healthcare',\n",
       " '!',\n",
       " '#tcot',\n",
       " '#fishy',\n",
       " 'NO',\n",
       " 'GOV',\n",
       " \"'\",\n",
       " 'T',\n",
       " 'TAKEOVER',\n",
       " '!']"
      ]
     },
     "execution_count": 111,
     "metadata": {},
     "output_type": "execute_result"
    }
   ],
   "source": [
    "nltk.regexp_tokenize(tweet1,tweetPattern1)"
   ]
  },
  {
   "cell_type": "code",
   "execution_count": 112,
   "id": "c811cc5a",
   "metadata": {},
   "outputs": [
    {
     "data": {
      "text/plain": [
       "['To',\n",
       " 'Sen',\n",
       " '.',\n",
       " 'Roland',\n",
       " 'Burris',\n",
       " ':',\n",
       " 'Affordable',\n",
       " ',',\n",
       " 'quality',\n",
       " 'health',\n",
       " 'insurance',\n",
       " 'can',\n",
       " \"'\",\n",
       " 't',\n",
       " 'wait',\n",
       " 'http://bit.ly/j63je',\n",
       " '#hc09',\n",
       " '#IL',\n",
       " '#60660']"
      ]
     },
     "execution_count": 112,
     "metadata": {},
     "output_type": "execute_result"
    }
   ],
   "source": [
    "nltk.regexp_tokenize(tweet2,tweetPattern1)"
   ]
  },
  {
   "cell_type": "code",
   "execution_count": 113,
   "id": "4506aa94",
   "metadata": {},
   "outputs": [
    {
     "data": {
      "text/plain": [
       "['RT',\n",
       " '@karoli',\n",
       " ':',\n",
       " 'RT',\n",
       " '@Seriou',\n",
       " ':',\n",
       " '.',\n",
       " '@whitehouse',\n",
       " 'I',\n",
       " 'will',\n",
       " 'stand',\n",
       " 'w',\n",
       " '/',\n",
       " 'Obama',\n",
       " 'on',\n",
       " '#healthcare',\n",
       " ',',\n",
       " 'I',\n",
       " 'trust',\n",
       " 'him',\n",
       " '.',\n",
       " '#p2',\n",
       " '#tlot']"
      ]
     },
     "execution_count": 113,
     "metadata": {},
     "output_type": "execute_result"
    }
   ],
   "source": [
    "nltk.regexp_tokenize(tweet3,tweetPattern1)"
   ]
  },
  {
   "cell_type": "code",
   "execution_count": 135,
   "id": "3b267a86",
   "metadata": {},
   "outputs": [],
   "source": [
    "tweetPattern2 = r''' (?x)\t# set flag to allow verbose regexps\n",
    "      (?:https?://|www)\\S+    # simple URLs\n",
    "      | (?:Sen.|Rep.|Dr.|Mr.|Mrs.)\n",
    "      | (?::-\\)|;-\\))\t\t# small list of emoticons\n",
    "      | &(?:amp|lt|gt|quot);  # XML or HTML entity\n",
    "      | \\#\\w+                 # hashtags\n",
    "      | @\\w+                  # mentions   \n",
    "      | \\d+:\\d+               # timelike pattern\n",
    "      | \\d+\\.\\d+              # number with a decimal\n",
    "      | (?:\\d+,)+?\\d{3}(?=(?:[^,]|$))   # number with a comma\n",
    "      | (?:[A-Z]\\.)+                    # simple abbreviations\n",
    "      | (?:--+)               # multiple dashes\n",
    "      | \\w+(?:-\\w+)*          # words with internal hyphens or apostrophes\n",
    "      | ['\\\".?!,:;/]+         # special characters\n",
    "      '''"
   ]
  },
  {
   "cell_type": "code",
   "execution_count": 136,
   "id": "7f6ebd14",
   "metadata": {},
   "outputs": [
    {
     "data": {
      "text/plain": [
       "['To',\n",
       " 'Sen.',\n",
       " 'Roland',\n",
       " 'Burris',\n",
       " ':',\n",
       " 'Affordable',\n",
       " ',',\n",
       " 'quality',\n",
       " 'health',\n",
       " 'insurance',\n",
       " 'can',\n",
       " \"'\",\n",
       " 't',\n",
       " 'wait',\n",
       " 'http://bit.ly/j63je',\n",
       " '#hc09',\n",
       " '#IL',\n",
       " '#60660',\n",
       " 'Dr.',\n",
       " 'Strange']"
      ]
     },
     "execution_count": 136,
     "metadata": {},
     "output_type": "execute_result"
    }
   ],
   "source": [
    "nltk.regexp_tokenize(tweet2+\" Dr.Strange\",tweetPattern2)"
   ]
  },
  {
   "cell_type": "code",
   "execution_count": 137,
   "id": "e8b47350",
   "metadata": {},
   "outputs": [],
   "source": [
    "tweetPattern2 = r''' (?x)\t# set flag to allow verbose regexps\n",
    "      (?:https?://|www)\\S+    # simple URLs\n",
    "      | (?:Sen.|Rep.|Dr.|Mr.|Mrs.)\n",
    "      | (?::-\\)|;-\\))\t\t# small list of emoticons\n",
    "      | &(?:amp|lt|gt|quot);  # XML or HTML entity\n",
    "      | \\#\\w+                 # hashtags\n",
    "      | @\\w+                  # mentions   \n",
    "      | \\w+'\\w+\n",
    "      | \\d+:\\d+               # timelike pattern\n",
    "      | \\d+\\.\\d+              # number with a decimal\n",
    "      | (?:\\d+,)+?\\d{3}(?=(?:[^,]|$))   # number with a comma\n",
    "      | (?:[A-Z]\\.)+                    # simple abbreviations\n",
    "      | (?:--+)               # multiple dashes\n",
    "      | \\w+(?:-\\w+)*          # words with internal hyphens or apostrophes\n",
    "      | ['\\\".?!,:;/]+         # special characters\n",
    "      '''"
   ]
  },
  {
   "cell_type": "code",
   "execution_count": 139,
   "id": "d594f613",
   "metadata": {},
   "outputs": [
    {
     "data": {
      "text/plain": [
       "['To',\n",
       " 'Sen.',\n",
       " 'Roland',\n",
       " 'Burris',\n",
       " ':',\n",
       " 'Affordable',\n",
       " ',',\n",
       " 'quality',\n",
       " 'health',\n",
       " 'insurance',\n",
       " \"can't\",\n",
       " 'wait',\n",
       " 'http://bit.ly/j63je',\n",
       " '#hc09',\n",
       " '#IL',\n",
       " '#60660']"
      ]
     },
     "execution_count": 139,
     "metadata": {},
     "output_type": "execute_result"
    }
   ],
   "source": [
    "nltk.regexp_tokenize(tweet2,tweetPattern2)"
   ]
  },
  {
   "cell_type": "code",
   "execution_count": 140,
   "id": "29662d85",
   "metadata": {},
   "outputs": [
    {
     "data": {
      "text/plain": [
       "['@natalieohayre',\n",
       " 'I',\n",
       " 'agree',\n",
       " '#hc09',\n",
       " 'needs',\n",
       " 'reform',\n",
       " 'but',\n",
       " 'not',\n",
       " 'by',\n",
       " 'crooked',\n",
       " 'politicians',\n",
       " 'who',\n",
       " 'r',\n",
       " 'clueless',\n",
       " 'about',\n",
       " 'healthcare',\n",
       " '!',\n",
       " '#tcot',\n",
       " '#fishy',\n",
       " 'NO',\n",
       " \"GOV'T\",\n",
       " 'TAKEOVER',\n",
       " '!']"
      ]
     },
     "execution_count": 140,
     "metadata": {},
     "output_type": "execute_result"
    }
   ],
   "source": [
    "nltk.regexp_tokenize(tweet1,tweetPattern2)"
   ]
  },
  {
   "cell_type": "code",
   "execution_count": 157,
   "id": "0aae77f8",
   "metadata": {},
   "outputs": [],
   "source": [
    "tweetPattern2 = r''' (?x)\t# set flag to allow verbose regexps\n",
    "      (?:https?://|www)\\S+    # simple URLs\n",
    "      | (?:Sen.|Rep.|Dr.|Mr.|Mrs.)\n",
    "      | (?::-\\)|;-\\))\t\t# small list of emoticons\n",
    "      | &(?:amp|lt|gt|quot);  # XML or HTML entity\n",
    "      | \\#\\w+                 # hashtags\n",
    "      | @\\w+                  # mentions   \n",
    "      | \\w+'\\w+\n",
    "      | w/\n",
    "      | \\d+:\\d+               # timelike pattern\n",
    "      | \\d+\\.\\d+              # number with a decimal\n",
    "      | (?:\\d+,)+?\\d{3}(?=(?:[^,]|$))   # number with a comma\n",
    "      | (?:[A-Z]\\.)+                    # simple abbreviations\n",
    "      | (?:--+)               # multiple dashes\n",
    "      | \\w+(?:-\\w+)*          # words with internal hyphens or apostrophes\n",
    "      | ['\\\".?!,:;/]+         # special characters\n",
    "      '''"
   ]
  },
  {
   "cell_type": "code",
   "execution_count": 158,
   "id": "b9e2791f",
   "metadata": {},
   "outputs": [
    {
     "data": {
      "text/plain": [
       "['RT',\n",
       " '@karoli',\n",
       " ':',\n",
       " 'RT',\n",
       " '@Seriou',\n",
       " ':',\n",
       " '.',\n",
       " '@whitehouse',\n",
       " 'I',\n",
       " 'will',\n",
       " 'stand',\n",
       " 'w/',\n",
       " 'Obama',\n",
       " 'on',\n",
       " '#healthcare',\n",
       " ',',\n",
       " 'I',\n",
       " 'trust',\n",
       " 'him',\n",
       " '.',\n",
       " '#p2',\n",
       " '#tlot']"
      ]
     },
     "execution_count": 158,
     "metadata": {},
     "output_type": "execute_result"
    }
   ],
   "source": [
    "nltk.regexp_tokenize(tweet3,tweetPattern2)"
   ]
  },
  {
   "cell_type": "code",
   "execution_count": null,
   "id": "9582ec55",
   "metadata": {},
   "outputs": [],
   "source": []
  },
  {
   "cell_type": "code",
   "execution_count": null,
   "id": "bc4cb2a2",
   "metadata": {},
   "outputs": [],
   "source": []
  }
 ],
 "metadata": {
  "kernelspec": {
   "display_name": "Python 3 (ipykernel)",
   "language": "python",
   "name": "python3"
  },
  "language_info": {
   "codemirror_mode": {
    "name": "ipython",
    "version": 3
   },
   "file_extension": ".py",
   "mimetype": "text/x-python",
   "name": "python",
   "nbconvert_exporter": "python",
   "pygments_lexer": "ipython3",
   "version": "3.9.12"
  }
 },
 "nbformat": 4,
 "nbformat_minor": 5
}
