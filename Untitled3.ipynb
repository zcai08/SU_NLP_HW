{
 "cells": [
  {
   "cell_type": "code",
   "execution_count": 10,
   "id": "a880bc26",
   "metadata": {},
   "outputs": [
    {
     "name": "stdout",
     "output_type": "stream",
     "text": [
      "<CategorizedTaggedCorpusReader in 'C:\\\\Users\\\\cz\\\\AppData\\\\Roaming\\\\nltk_data\\\\corpora\\\\brown'>\n",
      "[[('The', 'AT'), ('Fulton', 'NP-TL'), ('County', 'NN-TL'), ('Grand', 'JJ-TL'), ('Jury', 'NN-TL'), ('said', 'VBD'), ('Friday', 'NR'), ('an', 'AT'), ('investigation', 'NN'), ('of', 'IN'), (\"Atlanta's\", 'NP$'), ('recent', 'JJ'), ('primary', 'NN'), ('election', 'NN'), ('produced', 'VBD'), ('``', '``'), ('no', 'AT'), ('evidence', 'NN'), (\"''\", \"''\"), ('that', 'CS'), ('any', 'DTI'), ('irregularities', 'NNS'), ('took', 'VBD'), ('place', 'NN'), ('.', '.')], [('The', 'AT'), ('jury', 'NN'), ('further', 'RBR'), ('said', 'VBD'), ('in', 'IN'), ('term-end', 'NN'), ('presentments', 'NNS'), ('that', 'CS'), ('the', 'AT'), ('City', 'NN-TL'), ('Executive', 'JJ-TL'), ('Committee', 'NN-TL'), (',', ','), ('which', 'WDT'), ('had', 'HVD'), ('over-all', 'JJ'), ('charge', 'NN'), ('of', 'IN'), ('the', 'AT'), ('election', 'NN'), (',', ','), ('``', '``'), ('deserves', 'VBZ'), ('the', 'AT'), ('praise', 'NN'), ('and', 'CC'), ('thanks', 'NNS'), ('of', 'IN'), ('the', 'AT'), ('City', 'NN-TL'), ('of', 'IN-TL'), ('Atlanta', 'NP-TL'), (\"''\", \"''\"), ('for', 'IN'), ('the', 'AT'), ('manner', 'NN'), ('in', 'IN'), ('which', 'WDT'), ('the', 'AT'), ('election', 'NN'), ('was', 'BEDZ'), ('conducted', 'VBN'), ('.', '.')]] \n",
      "\n",
      "[('The', 'AT'), ('Fulton', 'NP-TL'), ('County', 'NN-TL'), ('Grand', 'JJ-TL'), ('Jury', 'NN-TL'), ('said', 'VBD'), ('Friday', 'NR'), ('an', 'AT'), ('investigation', 'NN'), ('of', 'IN'), (\"Atlanta's\", 'NP$'), ('recent', 'JJ'), ('primary', 'NN'), ('election', 'NN'), ('produced', 'VBD'), ('``', '``'), ('no', 'AT'), ('evidence', 'NN'), (\"''\", \"''\"), ('that', 'CS'), ('any', 'DTI'), ('irregularities', 'NNS'), ('took', 'VBD'), ('place', 'NN'), ('.', '.'), ('The', 'AT'), ('jury', 'NN'), ('further', 'RBR'), ('said', 'VBD'), ('in', 'IN'), ('term-end', 'NN'), ('presentments', 'NNS'), ('that', 'CS'), ('the', 'AT'), ('City', 'NN-TL'), ('Executive', 'JJ-TL'), ('Committee', 'NN-TL'), (',', ','), ('which', 'WDT'), ('had', 'HVD'), ('over-all', 'JJ'), ('charge', 'NN'), ('of', 'IN'), ('the', 'AT'), ('election', 'NN'), (',', ','), ('``', '``'), ('deserves', 'VBZ'), ('the', 'AT'), ('praise', 'NN')]\n"
     ]
    }
   ],
   "source": [
    "import nltk\n",
    "from nltk.corpus import brown\n",
    "print(brown.tagged_sents()[:2], '\\n')\n",
    "print(brown.tagged_words()[:50])"
   ]
  },
  {
   "cell_type": "code",
   "execution_count": 3,
   "id": "31ba5f15",
   "metadata": {},
   "outputs": [
    {
     "name": "stdout",
     "output_type": "stream",
     "text": [
      "('The', 'AT')\n",
      "<class 'tuple'>\n",
      "The\n",
      "AT\n"
     ]
    }
   ],
   "source": [
    "wordtag = brown.tagged_words()[0]\n",
    "print(wordtag)\n",
    "print(type(wordtag))\n",
    "print(wordtag[0])\n",
    "print(wordtag[1])"
   ]
  },
  {
   "cell_type": "code",
   "execution_count": 4,
   "id": "d130beec",
   "metadata": {},
   "outputs": [
    {
     "name": "stdout",
     "output_type": "stream",
     "text": [
      "['adventure', 'belles_lettres', 'editorial', 'fiction', 'government', 'hobbies', 'humor', 'learned', 'lore', 'mystery', 'news', 'religion', 'reviews', 'romance', 'science_fiction'] \n",
      "\n"
     ]
    }
   ],
   "source": [
    "print(brown.categories(), '\\n')"
   ]
  },
  {
   "cell_type": "code",
   "execution_count": 5,
   "id": "2e23f474",
   "metadata": {},
   "outputs": [
    {
     "name": "stdout",
     "output_type": "stream",
     "text": [
      "[('It', 'PRON'), ('was', 'VERB'), ('among', 'ADP'), ('these', 'DET'), ('that', 'ADP'), ('Hinkle', 'NOUN'), ('identified', 'VERB'), ('a', 'DET'), ('photograph', 'NOUN'), ('of', 'ADP'), ('Barco', 'NOUN'), ('!', '.'), ('!', '.'), ('For', 'ADP'), ('it', 'PRON'), ('seems', 'VERB'), ('that', 'ADP'), ('Barco', 'NOUN'), (',', '.'), ('fancying', 'VERB'), ('himself', 'PRON'), ('a', 'DET'), (\"ladies'\", 'NOUN'), ('man', 'NOUN'), ('(', '.'), ('and', 'CONJ'), ('why', 'ADV'), ('not', 'ADV'), (',', '.'), ('after', 'ADP'), ('seven', 'NUM'), ('marriages', 'NOUN'), ('?', '.'), ('?', '.'), (')', '.'), (',', '.'), ('had', 'VERB'), ('listed', 'VERB'), ('himself', 'PRON'), ('for', 'ADP'), ('Mormon', 'NOUN'), ('Beard', 'NOUN'), ('roles', 'NOUN'), ('at', 'ADP'), ('the', 'DET'), ('instigation', 'NOUN'), ('of', 'ADP'), ('his', 'DET'), ('fourth', 'ADJ'), ('murder', 'NOUN')]\n"
     ]
    }
   ],
   "source": [
    "brown_humor_tagged = brown.tagged_words(categories='humor', tagset='universal')\n",
    "print(brown_humor_tagged[:50])"
   ]
  },
  {
   "cell_type": "code",
   "execution_count": 6,
   "id": "7355161d",
   "metadata": {},
   "outputs": [
    {
     "name": "stdout",
     "output_type": "stream",
     "text": [
      "[('now', 'RB'), ('im', 'PRP'), ('left', 'VBD'), ('with', 'IN'), ('this', 'DT'), ('gay', 'JJ'), ('name', 'NN'), (':P', 'UH'), ('PART', 'VB'), ('hey', 'UH'), ('everyone', 'NN'), ('ah', 'UH'), ('well', 'UH'), ('NICK', 'NN'), (':', ':'), ('U7', 'NNP'), ('U7', 'NNP'), ('is', 'VBZ'), ('a', 'DT'), ('gay', 'JJ'), ('name', 'NN'), ('.', '.'), ('.', 'SYM'), ('ACTION', 'NN'), ('gives', 'VBZ'), ('U121', 'NNP'), ('a', 'DT'), ('golf', 'NN'), ('clap', 'NN'), ('.', '.'), (':)', 'UH'), ('JOIN', 'VB'), ('hi', 'UH'), ('U59', 'NNP'), ('26', 'CD'), ('/', 'CC'), ('m', 'NN'), ('/', 'CC'), ('ky', 'NNP'), ('women', 'NNS'), ('that', 'WDT'), ('are', 'VBP'), ('nice', 'JJ'), ('please', 'VB'), ('pm', 'VB'), ('me', 'PRP'), ('JOIN', 'VB'), ('PART', 'VB'), ('there', 'RB'), ('ya', 'PRP')]\n"
     ]
    }
   ],
   "source": [
    "print(nltk.corpus.nps_chat.tagged_words()[:50])"
   ]
  },
  {
   "cell_type": "code",
   "execution_count": 7,
   "id": "5aa3a334",
   "metadata": {},
   "outputs": [
    {
     "name": "stdout",
     "output_type": "stream",
     "text": [
      "\n",
      "( (S \n",
      "    (NP-SBJ \n",
      "      (NP (NNP Pierre) (NNP Vinken) )\n",
      "      (, ,) \n",
      "      (ADJP \n",
      "        (NP (CD 61) (NNS years) )\n",
      "        (JJ old) )\n",
      "      (, ,) ) \n",
      "\n"
     ]
    }
   ],
   "source": [
    "from nltk.corpus import treebank\n",
    "treebank_text = treebank.raw()\n",
    "print(treebank_text[:150], '\\n')"
   ]
  },
  {
   "cell_type": "code",
   "execution_count": 8,
   "id": "32de5da3",
   "metadata": {},
   "outputs": [
    {
     "name": "stdout",
     "output_type": "stream",
     "text": [
      "['Pierre', 'Vinken', ',', '61', 'years', 'old', ',', 'will', 'join', 'the', 'board', 'as', 'a', 'nonexecutive', 'director', 'Nov.', '29', '.', 'Mr.', 'Vinken']\n"
     ]
    }
   ],
   "source": [
    "treebank_tokens = treebank.words()\n",
    "print(treebank_tokens[:20])"
   ]
  },
  {
   "cell_type": "code",
   "execution_count": 9,
   "id": "ca4f9307",
   "metadata": {},
   "outputs": [
    {
     "name": "stdout",
     "output_type": "stream",
     "text": [
      "[('Pierre', 'NNP'), ('Vinken', 'NNP'), (',', ','), ('61', 'CD'), ('years', 'NNS'), ('old', 'JJ'), (',', ','), ('will', 'MD'), ('join', 'VB'), ('the', 'DT'), ('board', 'NN'), ('as', 'IN'), ('a', 'DT'), ('nonexecutive', 'JJ'), ('director', 'NN'), ('Nov.', 'NNP'), ('29', 'CD'), ('.', '.'), ('Mr.', 'NNP'), ('Vinken', 'NNP'), ('is', 'VBZ'), ('chairman', 'NN'), ('of', 'IN'), ('Elsevier', 'NNP'), ('N.V.', 'NNP'), (',', ','), ('the', 'DT'), ('Dutch', 'NNP'), ('publishing', 'VBG'), ('group', 'NN'), ('.', '.'), ('Rudolph', 'NNP'), ('Agnew', 'NNP'), (',', ','), ('55', 'CD'), ('years', 'NNS'), ('old', 'JJ'), ('and', 'CC'), ('former', 'JJ'), ('chairman', 'NN'), ('of', 'IN'), ('Consolidated', 'NNP'), ('Gold', 'NNP'), ('Fields', 'NNP'), ('PLC', 'NNP'), (',', ','), ('was', 'VBD'), ('named', 'VBN'), ('*-1', '-NONE-'), ('a', 'DT')]\n"
     ]
    }
   ],
   "source": [
    "treebank_tagged_words = treebank.tagged_words()\n",
    "print(treebank_tagged_words[:50])"
   ]
  },
  {
   "cell_type": "code",
   "execution_count": 11,
   "id": "9597f43a",
   "metadata": {},
   "outputs": [
    {
     "name": "stdout",
     "output_type": "stream",
     "text": [
      "[[('Pierre', 'NNP'), ('Vinken', 'NNP'), (',', ','), ('61', 'CD'), ('years', 'NNS'), ('old', 'JJ'), (',', ','), ('will', 'MD'), ('join', 'VB'), ('the', 'DT'), ('board', 'NN'), ('as', 'IN'), ('a', 'DT'), ('nonexecutive', 'JJ'), ('director', 'NN'), ('Nov.', 'NNP'), ('29', 'CD'), ('.', '.')], [('Mr.', 'NNP'), ('Vinken', 'NNP'), ('is', 'VBZ'), ('chairman', 'NN'), ('of', 'IN'), ('Elsevier', 'NNP'), ('N.V.', 'NNP'), (',', ','), ('the', 'DT'), ('Dutch', 'NNP'), ('publishing', 'VBG'), ('group', 'NN'), ('.', '.')]]\n"
     ]
    }
   ],
   "source": [
    "treebank_tagged = treebank.tagged_sents()\n",
    "print(treebank_tagged[:2])"
   ]
  },
  {
   "cell_type": "code",
   "execution_count": 12,
   "id": "d49dfa36",
   "metadata": {},
   "outputs": [
    {
     "name": "stdout",
     "output_type": "stream",
     "text": [
      "dict_keys(['NNP', ',', 'CD', 'NNS', 'JJ', 'MD', 'VB', 'DT', 'NN', 'IN', '.', 'VBZ', 'VBG', 'CC', 'VBD', 'VBN', '-NONE-', 'RB', 'TO', 'PRP', 'RBR', 'WDT', 'VBP', 'RP', 'PRP$', 'JJS', 'POS', '``', 'EX', \"''\", 'WP', ':', 'JJR', 'WRB', '$', 'NNPS', 'WP$', '-LRB-', '-RRB-', 'PDT', 'RBS', 'FW', 'UH', 'SYM', 'LS', '#']) \n",
      "\n"
     ]
    }
   ],
   "source": [
    "tag_fd = nltk.FreqDist(tag for (word, tag) in treebank_tagged_words)\n",
    "print(tag_fd.keys(), '\\n')"
   ]
  },
  {
   "cell_type": "code",
   "execution_count": 13,
   "id": "2f7cb171",
   "metadata": {},
   "outputs": [
    {
     "name": "stdout",
     "output_type": "stream",
     "text": [
      "NN 13166\n",
      "IN 9857\n",
      "NNP 9410\n",
      "DT 8165\n",
      "-NONE- 6592\n",
      "NNS 6047\n",
      "JJ 5834\n",
      ", 4886\n",
      ". 3874\n",
      "CD 3546\n",
      "VBD 3043\n",
      "RB 2822\n",
      "VB 2554\n",
      "CC 2265\n",
      "TO 2179\n",
      "VBN 2134\n",
      "VBZ 2125\n",
      "PRP 1716\n",
      "VBG 1460\n",
      "VBP 1321\n",
      "MD 927\n",
      "POS 824\n",
      "PRP$ 766\n",
      "$ 724\n",
      "`` 712\n",
      "'' 694\n",
      ": 563\n",
      "WDT 445\n",
      "JJR 381\n",
      "NNPS 244\n",
      "WP 241\n",
      "RP 216\n",
      "JJS 182\n",
      "WRB 178\n",
      "RBR 136\n",
      "-RRB- 126\n",
      "-LRB- 120\n",
      "EX 88\n",
      "RBS 35\n",
      "PDT 27\n",
      "# 16\n",
      "WP$ 14\n",
      "LS 13\n",
      "FW 4\n",
      "UH 3\n",
      "SYM 1\n"
     ]
    }
   ],
   "source": [
    "for tag,freq in tag_fd.most_common():\n",
    "    print (tag, freq)"
   ]
  },
  {
   "cell_type": "code",
   "execution_count": 14,
   "id": "33454003",
   "metadata": {},
   "outputs": [
    {
     "name": "stdout",
     "output_type": "stream",
     "text": [
      "dict_keys(['N', ',', 'C', 'J', 'M', 'V', 'D', 'I', '.', '-', 'R', 'T', 'P', 'W', '`', 'E', \"'\", ':', '$', 'F', 'U', 'S', 'L', '#']) \n",
      "\n",
      "N 28867\n",
      "V 12637\n",
      "I 9857\n",
      "D 8165\n",
      "- 6838\n",
      "J 6397\n",
      "C 5811\n",
      ", 4886\n",
      ". 3874\n",
      "P 3333\n",
      "R 3209\n",
      "T 2179\n",
      "M 927\n",
      "W 878\n",
      "$ 724\n",
      "` 712\n",
      "' 694\n",
      ": 563\n",
      "E 88\n",
      "# 16\n",
      "L 13\n",
      "F 4\n",
      "U 3\n",
      "S 1\n"
     ]
    }
   ],
   "source": [
    "tag_classes_fd = nltk.FreqDist(tag[0] for (word, tag) in treebank_tagged_words)\n",
    "print(tag_classes_fd.keys(), '\\n')\n",
    "for tag,freq in tag_classes_fd.most_common():\n",
    "    print (tag, freq)"
   ]
  },
  {
   "cell_type": "code",
   "execution_count": 15,
   "id": "8f1f414c",
   "metadata": {},
   "outputs": [],
   "source": [
    "size = int(len(treebank_tagged) * 0.9)\n",
    "treebank_train = treebank_tagged[:size]\n",
    "treebank_test = treebank_tagged[size:]"
   ]
  },
  {
   "cell_type": "code",
   "execution_count": 16,
   "id": "4d9d574a",
   "metadata": {},
   "outputs": [
    {
     "name": "stdout",
     "output_type": "stream",
     "text": [
      "[('Pierre', 'NN'), ('Vinken', 'NN'), (',', 'NN'), ('61', 'NN'), ('years', 'NN'), ('old', 'NN'), (',', 'NN'), ('will', 'NN'), ('join', 'NN'), ('the', 'NN'), ('board', 'NN'), ('as', 'NN'), ('a', 'NN'), ('nonexecutive', 'NN'), ('director', 'NN'), ('Nov.', 'NN'), ('29', 'NN'), ('.', 'NN'), ('Mr.', 'NN'), ('Vinken', 'NN'), ('is', 'NN'), ('chairman', 'NN'), ('of', 'NN'), ('Elsevier', 'NN'), ('N.V.', 'NN'), (',', 'NN'), ('the', 'NN'), ('Dutch', 'NN'), ('publishing', 'NN'), ('group', 'NN'), ('.', 'NN'), ('Rudolph', 'NN'), ('Agnew', 'NN'), (',', 'NN'), ('55', 'NN'), ('years', 'NN'), ('old', 'NN'), ('and', 'NN'), ('former', 'NN'), ('chairman', 'NN'), ('of', 'NN'), ('Consolidated', 'NN'), ('Gold', 'NN'), ('Fields', 'NN'), ('PLC', 'NN'), (',', 'NN'), ('was', 'NN'), ('named', 'NN'), ('*-1', 'NN'), ('a', 'NN')]\n"
     ]
    }
   ],
   "source": [
    "t0 = nltk.DefaultTagger('NN')\n",
    "print(t0.tag(treebank_tokens[:50]))"
   ]
  },
  {
   "cell_type": "code",
   "execution_count": 17,
   "id": "b6efd054",
   "metadata": {},
   "outputs": [
    {
     "name": "stdout",
     "output_type": "stream",
     "text": [
      "0.14697201017811704\n"
     ]
    },
    {
     "name": "stderr",
     "output_type": "stream",
     "text": [
      "C:\\Users\\cz\\AppData\\Local\\Temp\\ipykernel_17892\\3397654342.py:1: DeprecationWarning: \n",
      "  Function evaluate() has been deprecated.  Use accuracy(gold)\n",
      "  instead.\n",
      "  print(t0.evaluate(treebank_test))\n"
     ]
    }
   ],
   "source": [
    "print(t0.evaluate(treebank_test))"
   ]
  },
  {
   "cell_type": "code",
   "execution_count": 18,
   "id": "268e1a62",
   "metadata": {},
   "outputs": [],
   "source": [
    "t1 = nltk.UnigramTagger(treebank_train)"
   ]
  },
  {
   "cell_type": "code",
   "execution_count": 19,
   "id": "ca46af7f",
   "metadata": {},
   "outputs": [
    {
     "name": "stdout",
     "output_type": "stream",
     "text": [
      "[('Pierre', 'NNP'), ('Vinken', 'NNP'), (',', ','), ('61', 'CD'), ('years', 'NNS'), ('old', 'JJ'), (',', ','), ('will', 'MD'), ('join', 'VB'), ('the', 'DT'), ('board', 'NN'), ('as', 'IN'), ('a', 'DT'), ('nonexecutive', 'JJ'), ('director', 'NN'), ('Nov.', 'NNP'), ('29', 'CD'), ('.', '.'), ('Mr.', 'NNP'), ('Vinken', 'NNP'), ('is', 'VBZ'), ('chairman', 'NN'), ('of', 'IN'), ('Elsevier', 'NNP'), ('N.V.', 'NNP'), (',', ','), ('the', 'DT'), ('Dutch', 'JJ'), ('publishing', 'NN'), ('group', 'NN'), ('.', '.'), ('Rudolph', 'NNP'), ('Agnew', 'NNP'), (',', ','), ('55', 'CD'), ('years', 'NNS'), ('old', 'JJ'), ('and', 'CC'), ('former', 'JJ'), ('chairman', 'NN'), ('of', 'IN'), ('Consolidated', 'NNP'), ('Gold', 'NNP'), ('Fields', 'NNP'), ('PLC', 'NNP'), (',', ','), ('was', 'VBD'), ('named', 'VBN'), ('*-1', '-NONE-'), ('a', 'DT')]\n"
     ]
    }
   ],
   "source": [
    "print(t1.tag(treebank_tokens[:50]))"
   ]
  },
  {
   "cell_type": "code",
   "execution_count": 20,
   "id": "e784bbad",
   "metadata": {},
   "outputs": [],
   "source": [
    "t0 = nltk.DefaultTagger('NN')\n",
    "t1 = nltk.UnigramTagger(treebank_train, backoff=t0)\n",
    "t2 = nltk.BigramTagger(treebank_train, backoff=t1)"
   ]
  },
  {
   "cell_type": "code",
   "execution_count": 21,
   "id": "8e1c9c8b",
   "metadata": {},
   "outputs": [
    {
     "name": "stdout",
     "output_type": "stream",
     "text": [
      "0.8905852417302799\n"
     ]
    },
    {
     "name": "stderr",
     "output_type": "stream",
     "text": [
      "C:\\Users\\cz\\AppData\\Local\\Temp\\ipykernel_17892\\1905257320.py:1: DeprecationWarning: \n",
      "  Function evaluate() has been deprecated.  Use accuracy(gold)\n",
      "  instead.\n",
      "  print(t2.evaluate(treebank_test))\n"
     ]
    }
   ],
   "source": [
    "print(t2.evaluate(treebank_test))"
   ]
  },
  {
   "cell_type": "code",
   "execution_count": 22,
   "id": "2c37b255",
   "metadata": {},
   "outputs": [],
   "source": [
    "text = \"Three Calgarians have found a rather unusual way of leaving snow and ice behind. They set off this week on foot and by camels on a grueling trek across the burning Arabian desert.\""
   ]
  },
  {
   "cell_type": "code",
   "execution_count": 23,
   "id": "23689b20",
   "metadata": {},
   "outputs": [
    {
     "name": "stdout",
     "output_type": "stream",
     "text": [
      "['Three Calgarians have found a rather unusual way of leaving snow and ice behind.', 'They set off this week on foot and by camels on a grueling trek across the burning Arabian desert.']\n"
     ]
    }
   ],
   "source": [
    "textsplit = nltk.sent_tokenize(text)\n",
    "print(textsplit)"
   ]
  },
  {
   "cell_type": "code",
   "execution_count": 24,
   "id": "4e17e246",
   "metadata": {},
   "outputs": [
    {
     "name": "stdout",
     "output_type": "stream",
     "text": [
      "[['Three', 'Calgarians', 'have', 'found', 'a', 'rather', 'unusual', 'way', 'of', 'leaving', 'snow', 'and', 'ice', 'behind', '.'], ['They', 'set', 'off', 'this', 'week', 'on', 'foot', 'and', 'by', 'camels', 'on', 'a', 'grueling', 'trek', 'across', 'the', 'burning', 'Arabian', 'desert', '.']]\n"
     ]
    }
   ],
   "source": [
    "tokentext = [nltk.word_tokenize(sent) for sent in textsplit]\n",
    "print(tokentext)"
   ]
  },
  {
   "cell_type": "code",
   "execution_count": 25,
   "id": "98c62705",
   "metadata": {},
   "outputs": [
    {
     "name": "stdout",
     "output_type": "stream",
     "text": [
      "[[('Three', 'CD'), ('Calgarians', 'NN'), ('have', 'VBP'), ('found', 'VBN'), ('a', 'DT'), ('rather', 'RB'), ('unusual', 'JJ'), ('way', 'NN'), ('of', 'IN'), ('leaving', 'VBG'), ('snow', 'NN'), ('and', 'CC'), ('ice', 'NN'), ('behind', 'IN'), ('.', '.')], [('They', 'PRP'), ('set', 'VBN'), ('off', 'RP'), ('this', 'DT'), ('week', 'NN'), ('on', 'IN'), ('foot', 'NN'), ('and', 'CC'), ('by', 'IN'), ('camels', 'NN'), ('on', 'IN'), ('a', 'DT'), ('grueling', 'NN'), ('trek', 'NN'), ('across', 'IN'), ('the', 'DT'), ('burning', 'NN'), ('Arabian', 'NN'), ('desert', 'NN'), ('.', '.')]]\n"
     ]
    }
   ],
   "source": [
    "taggedtext = [t2.tag(tokens) for tokens in tokentext]\n",
    "print(taggedtext)"
   ]
  },
  {
   "cell_type": "code",
   "execution_count": 26,
   "id": "6482e1ab",
   "metadata": {},
   "outputs": [
    {
     "name": "stdout",
     "output_type": "stream",
     "text": [
      "[[('Three', 'CD'), ('Calgarians', 'NNPS'), ('have', 'VBP'), ('found', 'VBN'), ('a', 'DT'), ('rather', 'RB'), ('unusual', 'JJ'), ('way', 'NN'), ('of', 'IN'), ('leaving', 'VBG'), ('snow', 'NN'), ('and', 'CC'), ('ice', 'NN'), ('behind', 'NN'), ('.', '.')], [('They', 'PRP'), ('set', 'VBD'), ('off', 'RP'), ('this', 'DT'), ('week', 'NN'), ('on', 'IN'), ('foot', 'NN'), ('and', 'CC'), ('by', 'IN'), ('camels', 'NNS'), ('on', 'IN'), ('a', 'DT'), ('grueling', 'NN'), ('trek', 'NN'), ('across', 'IN'), ('the', 'DT'), ('burning', 'NN'), ('Arabian', 'JJ'), ('desert', 'NN'), ('.', '.')]]\n"
     ]
    }
   ],
   "source": [
    "taggedtextStanford = [nltk.pos_tag(tokens) for tokens in tokentext]\n",
    "print(taggedtextStanford)"
   ]
  },
  {
   "cell_type": "code",
   "execution_count": 27,
   "id": "6f9d8e6c",
   "metadata": {},
   "outputs": [
    {
     "name": "stdout",
     "output_type": "stream",
     "text": [
      "[('Three', 'CD'), ('Calgarians', 'NN'), ('have', 'VBP'), ('found', 'VBN'), ('a', 'DT'), ('rather', 'RB'), ('unusual', 'JJ'), ('way', 'NN'), ('of', 'IN'), ('leaving', 'VBG'), ('snow', 'NN'), ('and', 'CC'), ('ice', 'NN'), ('behind', 'IN'), ('.', '.'), ('They', 'PRP'), ('set', 'VBN'), ('off', 'RP'), ('this', 'DT'), ('week', 'NN'), ('on', 'IN'), ('foot', 'NN'), ('and', 'CC'), ('by', 'IN'), ('camels', 'NN'), ('on', 'IN'), ('a', 'DT'), ('grueling', 'NN'), ('trek', 'NN'), ('across', 'IN'), ('the', 'DT'), ('burning', 'NN'), ('Arabian', 'NN'), ('desert', 'NN'), ('.', '.')]\n"
     ]
    }
   ],
   "source": [
    "taggedtext_flat = [pair for sent in taggedtext for pair in sent]\n",
    "print(taggedtext_flat)"
   ]
  },
  {
   "cell_type": "code",
   "execution_count": 28,
   "id": "d1770d83",
   "metadata": {},
   "outputs": [
    {
     "name": "stdout",
     "output_type": "stream",
     "text": [
      "[('Three', 'CD'), ('Calgarians', 'NNPS'), ('have', 'VBP'), ('found', 'VBN'), ('a', 'DT'), ('rather', 'RB'), ('unusual', 'JJ'), ('way', 'NN'), ('of', 'IN'), ('leaving', 'VBG'), ('snow', 'NN'), ('and', 'CC'), ('ice', 'NN'), ('behind', 'NN'), ('.', '.'), ('They', 'PRP'), ('set', 'VBD'), ('off', 'RP'), ('this', 'DT'), ('week', 'NN'), ('on', 'IN'), ('foot', 'NN'), ('and', 'CC'), ('by', 'IN'), ('camels', 'NNS'), ('on', 'IN'), ('a', 'DT'), ('grueling', 'NN'), ('trek', 'NN'), ('across', 'IN'), ('the', 'DT'), ('burning', 'NN'), ('Arabian', 'JJ'), ('desert', 'NN'), ('.', '.')]\n"
     ]
    }
   ],
   "source": [
    "taggedtextStanford_flat = [pair for sent in taggedtextStanford for pair in sent]\n",
    "print(taggedtextStanford_flat)"
   ]
  },
  {
   "cell_type": "code",
   "execution_count": 49,
   "id": "48cbb40b",
   "metadata": {},
   "outputs": [
    {
     "name": "stdout",
     "output_type": "stream",
     "text": [
      "11793318\n",
      "[Emma by Jane Austen 1816]\n",
      "\n",
      "VOLUME I\n",
      "\n",
      "CHAPTER I\n",
      "\n",
      "\n",
      "Emma Woodhouse, handsome, clever, and rich, with a comfortable home\n",
      "and happy disposition, seemed to \n",
      "\n"
     ]
    }
   ],
   "source": [
    "from nltk.corpus import gutenberg\n",
    "gutenberg_text = gutenberg.raw()\n",
    "print(len(gutenberg_text))\n",
    "print(gutenberg_text[:150], '\\n')"
   ]
  },
  {
   "cell_type": "code",
   "execution_count": 50,
   "id": "b4d25706",
   "metadata": {},
   "outputs": [
    {
     "name": "stdout",
     "output_type": "stream",
     "text": [
      "['[Emma by Jane Austen 1816]\\n\\nVOLUME I\\n\\nCHAPTER I\\n\\n\\nEmma Woodhouse, handsome, clever, and rich, with a comfortable home\\nand happy disposition, seemed to unite some of the best blessings\\nof existence; and had lived nearly twenty-one years in the world\\nwith very little to distress or vex her.', \"She was the youngest of the two daughters of a most affectionate,\\nindulgent father; and had, in consequence of her sister's marriage,\\nbeen mistress of his house from a very early period.\", 'Her mother\\nhad died too long ago for her to have more than an indistinct\\nremembrance of her caresses; and her place had been supplied\\nby an excellent woman as governess, who had fallen little short\\nof a mother in affection.', \"Sixteen years had Miss Taylor been in Mr. Woodhouse's family,\\nless as a governess than a friend, very fond of both daughters,\\nbut particularly of Emma.\", 'Between _them_ it was more the intimacy\\nof sisters.', \"Even before Miss Taylor had ceased to hold the nominal\\noffice of governess, the mildness of her temper had hardly allowed\\nher to impose any restraint; and the shadow of authority being\\nnow long passed away, they had been living together as friend and\\nfriend very mutually attached, and Emma doing just what she liked;\\nhighly esteeming Miss Taylor's judgment, but directed chiefly by\\nher own.\", \"The real evils, indeed, of Emma's situation were the power of having\\nrather too much her own way, and a disposition to think a little\\ntoo well of herself; these were the disadvantages which threatened\\nalloy to her many enjoyments.\", 'The danger, however, was at present\\nso unperceived, that they did not by any means rank as misfortunes\\nwith her.', 'Sorrow came--a gentle sorrow--but not at all in the shape of any\\ndisagreeable consciousness.--Miss Taylor married.', \"It was Miss\\nTaylor's loss which first brought grief.\", 'It was on the wedding-day\\nof this beloved friend that Emma first sat in mournful thought\\nof any continuance.', 'The wedding over, and the bride-people gone,\\nher father and herself were left to dine together, with no prospect\\nof a third to cheer a long evening.', 'Her father composed himself\\nto sleep after dinner, as usual, and she had then only to sit\\nand think of what she had lost.', 'The event had every promise of happiness for her friend.', \"Mr. Weston\\nwas a man of unexceptionable character, easy fortune, suitable age,\\nand pleasant manners; and there was some satisfaction in considering\\nwith what self-denying, generous friendship she had always wished\\nand promoted the match; but it was a black morning's work for her.\", 'The want of Miss Taylor would be felt every hour of every day.', 'She recalled her past kindness--the kindness, the affection of sixteen\\nyears--how she had taught and how she had played with her from five\\nyears old--how she had devoted all her powers to attach and amuse\\nher in health--and how nursed her through the various illnesses\\nof childhood.', \"A large debt of gratitude was owing here; but the\\nintercourse of the last seven years, the equal footing and perfect\\nunreserve which had soon followed Isabella's marriage, on their\\nbeing left to each other, was yet a dearer, tenderer recollection.\", 'She had been a friend and companion such as few possessed: intelligent,\\nwell-informed, useful, gentle, knowing all the ways of the family,\\ninterested in all its concerns, and peculiarly interested in herself,\\nin every pleasure, every scheme of hers--one to whom she could speak\\nevery thought as it arose, and who had such an affection for her\\nas could never find fault.', 'How was she to bear the change?--It was true that her friend was\\ngoing only half a mile from them; but Emma was aware that great must\\nbe the difference between a Mrs. Weston, only half a mile from them,\\nand a Miss Taylor in the house; and with all her advantages,\\nnatural and domestic, she was now in great danger of suffering\\nfrom intellectual solitude.', 'She dearly loved her father, but he\\nwas no companion for her.', 'He could not meet her in conversation,\\nrational or playful.', 'The evil of the actual disparity in their ages (and Mr. Woodhouse had\\nnot married early) was much increased by his constitution and habits;\\nfor having been a valetudinarian all his life, without activity\\nof mind or body, he was a much older man in ways than in years;\\nand though everywhere beloved for the friendliness of his heart\\nand his amiable temper, his talents could not have recommended him\\nat any time.', 'Her sister, though comparatively but little removed by matrimony,\\nbeing settled in London, only sixteen miles off, was much beyond\\nher daily reach; and many a long October and November evening must\\nbe struggled through at Hartfield, before Christmas brought the next\\nvisit from Isabella and her husband, and their little children,\\nto fill the house, and give her pleasant society again.', 'Highbury, the large and populous village, almost amounting to a town,\\nto which Hartfield, in spite of its separate lawn, and shrubberies,\\nand name, did really belong, afforded her no equals.', 'The Woodhouses\\nwere first in consequence there.', 'All looked up to them.', 'She had\\nmany acquaintance in the place, for her father was universally civil,\\nbut not one among them who could be accepted in lieu of Miss\\nTaylor for even half a day.', 'It was a melancholy change; and Emma\\ncould not but sigh over it, and wish for impossible things,\\ntill her father awoke, and made it necessary to be cheerful.', 'His spirits required support.', 'He was a nervous man, easily depressed;\\nfond of every body that he was used to, and hating to part with them;\\nhating change of every kind.', \"Matrimony, as the origin of change,\\nwas always disagreeable; and he was by no means yet reconciled\\nto his own daughter's marrying, nor could ever speak of her but\\nwith compassion, though it had been entirely a match of affection,\\nwhen he was now obliged to part with Miss Taylor too; and from\\nhis habits of gentle selfishness, and of being never able to\\nsuppose that other people could feel differently from himself,\\nhe was very much disposed to think Miss Taylor had done as sad\\na thing for herself as for them, and would have been a great deal\\nhappier if she had spent all the rest of her life at Hartfield.\", 'Emma smiled and chatted as cheerfully as she could, to keep him\\nfrom such thoughts; but when tea came, it was impossible for him\\nnot to say exactly as he had said at dinner,\\n\\n\"Poor Miss Taylor!--I wish she were here again.', 'What a pity it\\nis that Mr. Weston ever thought of her!\"', '\"I cannot agree with you, papa; you know I cannot.', 'Mr. Weston is such\\na good-humoured, pleasant, excellent man, that he thoroughly deserves\\na good wife;--and you would not have had Miss Taylor live with us\\nfor ever, and bear all my odd humours, when she might have a house of her own?\"', '\"A house of her own!--But where is the advantage of a house of her own?', 'This is three times as large.--And you have never any odd humours,\\nmy dear.\"', '\"How often we shall be going to see them, and they coming to see\\nus!--We shall be always meeting!', '_We_ must begin; we must go and pay\\nwedding visit very soon.\"', '\"My dear, how am I to get so far?', 'Randalls is such a distance.', 'I could not walk half so far.\"', '\"No, papa, nobody thought of your walking.', 'We must go in the carriage,\\nto be sure.\"', '\"The carriage!', 'But James will not like to put the horses to for\\nsuch a little way;--and where are the poor horses to be while we\\nare paying our visit?\"', '\"They are to be put into Mr. Weston\\'s stable, papa.', 'You know we\\nhave settled all that already.', 'We talked it all over with Mr. Weston\\nlast night.']\n"
     ]
    }
   ],
   "source": [
    "gutenberg_split = nltk.sent_tokenize(gutenberg_text)\n",
    "print(gutenberg_split[:50])"
   ]
  },
  {
   "cell_type": "code",
   "execution_count": 70,
   "id": "60b41ca0",
   "metadata": {},
   "outputs": [
    {
     "name": "stdout",
     "output_type": "stream",
     "text": [
      "[['[', 'Emma', 'by', 'Jane', 'Austen', '1816', ']', 'VOLUME', 'I', 'CHAPTER', 'I', 'Emma', 'Woodhouse', ',', 'handsome', ',', 'clever', ',', 'and', 'rich', ',', 'with', 'a', 'comfortable', 'home', 'and', 'happy', 'disposition', ',', 'seemed', 'to', 'unite', 'some', 'of', 'the', 'best', 'blessings', 'of', 'existence', ';', 'and', 'had', 'lived', 'nearly', 'twenty-one', 'years', 'in', 'the', 'world', 'with', 'very', 'little', 'to', 'distress', 'or', 'vex', 'her', '.'], ['She', 'was', 'the', 'youngest', 'of', 'the', 'two', 'daughters', 'of', 'a', 'most', 'affectionate', ',', 'indulgent', 'father', ';', 'and', 'had', ',', 'in', 'consequence', 'of', 'her', 'sister', \"'s\", 'marriage', ',', 'been', 'mistress', 'of', 'his', 'house', 'from', 'a', 'very', 'early', 'period', '.'], ['Her', 'mother', 'had', 'died', 'too', 'long', 'ago', 'for', 'her', 'to', 'have', 'more', 'than', 'an', 'indistinct', 'remembrance', 'of', 'her', 'caresses', ';', 'and', 'her', 'place', 'had', 'been', 'supplied', 'by', 'an', 'excellent', 'woman', 'as', 'governess', ',', 'who', 'had', 'fallen', 'little', 'short', 'of', 'a', 'mother', 'in', 'affection', '.'], ['Sixteen', 'years', 'had', 'Miss', 'Taylor', 'been', 'in', 'Mr.', 'Woodhouse', \"'s\", 'family', ',', 'less', 'as', 'a', 'governess', 'than', 'a', 'friend', ',', 'very', 'fond', 'of', 'both', 'daughters', ',', 'but', 'particularly', 'of', 'Emma', '.'], ['Between', '_them_', 'it', 'was', 'more', 'the', 'intimacy', 'of', 'sisters', '.']]\n"
     ]
    }
   ],
   "source": [
    "gutenberg_token = [nltk.word_tokenize(sent) for sent in gutenberg_split]\n",
    "print(gutenberg_token[:5])"
   ]
  },
  {
   "cell_type": "code",
   "execution_count": 69,
   "id": "9da0c083",
   "metadata": {},
   "outputs": [
    {
     "name": "stdout",
     "output_type": "stream",
     "text": [
      "[[('[', 'NN'), ('Emma', 'NN'), ('by', 'IN'), ('Jane', 'NN'), ('Austen', 'NN'), ('1816', 'NN'), (']', 'NN'), ('VOLUME', 'NN'), ('I', 'PRP'), ('CHAPTER', 'NN'), ('I', 'PRP'), ('Emma', 'NN'), ('Woodhouse', 'NN'), (',', ','), ('handsome', 'NN'), (',', ','), ('clever', 'NN'), (',', ','), ('and', 'CC'), ('rich', 'JJ'), (',', ','), ('with', 'IN'), ('a', 'DT'), ('comfortable', 'JJ'), ('home', 'NN'), ('and', 'CC'), ('happy', 'JJ'), ('disposition', 'NN'), (',', ','), ('seemed', 'VBD'), ('to', 'TO'), ('unite', 'NN'), ('some', 'DT'), ('of', 'IN'), ('the', 'DT'), ('best', 'JJS'), ('blessings', 'NN'), ('of', 'IN'), ('existence', 'NN'), (';', ':'), ('and', 'CC'), ('had', 'VBD'), ('lived', 'NN'), ('nearly', 'RB'), ('twenty-one', 'NN'), ('years', 'NNS'), ('in', 'IN'), ('the', 'DT'), ('world', 'NN'), ('with', 'IN'), ('very', 'RB'), ('little', 'RB'), ('to', 'TO'), ('distress', 'NN'), ('or', 'CC'), ('vex', 'NN'), ('her', 'PRP$'), ('.', '.')], [('She', 'PRP'), ('was', 'VBD'), ('the', 'DT'), ('youngest', 'NN'), ('of', 'IN'), ('the', 'DT'), ('two', 'CD'), ('daughters', 'NNS'), ('of', 'IN'), ('a', 'DT'), ('most', 'RBS'), ('affectionate', 'NN'), (',', ','), ('indulgent', 'NN'), ('father', 'NN'), (';', ':'), ('and', 'CC'), ('had', 'VBD'), (',', ','), ('in', 'IN'), ('consequence', 'NN'), ('of', 'IN'), ('her', 'PRP$'), ('sister', 'NN'), (\"'s\", 'POS'), ('marriage', 'NN'), (',', ','), ('been', 'VBN'), ('mistress', 'NN'), ('of', 'IN'), ('his', 'PRP$'), ('house', 'NN'), ('from', 'IN'), ('a', 'DT'), ('very', 'RB'), ('early', 'RB'), ('period', 'NN'), ('.', '.')]]\n"
     ]
    }
   ],
   "source": [
    "gutenberg_tagged = [t2.tag(tokens) for tokens in gutenberg_token]\n",
    "print(gutenberg_tagged[:2])"
   ]
  },
  {
   "cell_type": "code",
   "execution_count": 67,
   "id": "17ded771",
   "metadata": {},
   "outputs": [],
   "source": [
    "import itertools\n",
    "gutenberg_tagged1=(itertools.chain(*gutenberg_tagged))"
   ]
  },
  {
   "cell_type": "code",
   "execution_count": 65,
   "id": "f926b65c",
   "metadata": {},
   "outputs": [
    {
     "name": "stdout",
     "output_type": "stream",
     "text": [
      "NN 641677\n",
      "IN 263192\n",
      "DT 220756\n",
      ", 192339\n",
      "PRP 162860\n",
      "CC 118054\n",
      "RB 98049\n",
      ". 95307\n",
      "VBD 86021\n",
      "JJ 72755\n",
      "VB 71839\n",
      "PRP$ 57936\n",
      ": 54135\n",
      "TO 47435\n",
      "MD 42008\n",
      "VBP 38550\n",
      "NNS 37980\n",
      "VBN 37946\n",
      "NNP 33655\n",
      "VBZ 25137\n",
      "'' 19310\n",
      "VBG 17474\n",
      "WDT 17184\n",
      "`` 14328\n",
      "CD 12987\n",
      "WRB 12137\n",
      "WP 10850\n",
      "RP 10565\n",
      "POS 8393\n",
      "EX 5057\n",
      "JJR 3811\n",
      "RBR 3204\n",
      "JJS 2375\n",
      "UH 957\n",
      "RBS 884\n",
      "WP$ 730\n",
      "-NONE- 284\n",
      "NNPS 250\n",
      "LS 178\n",
      "PDT 169\n",
      "FW 73\n",
      "$ 12\n"
     ]
    }
   ],
   "source": [
    "gutenberg_tag_fd = nltk.FreqDist(tag for (word, tag) in gutenberg_tagged1)\n",
    "for tag,freq in gutenberg_tag_fd.most_common():\n",
    "    print (tag, freq)"
   ]
  },
  {
   "cell_type": "code",
   "execution_count": 68,
   "id": "345ca13a",
   "metadata": {},
   "outputs": [
    {
     "name": "stdout",
     "output_type": "stream",
     "text": [
      "dict_keys(['N', 'I', 'P', ',', 'C', 'J', 'D', 'V', 'T', ':', 'R', '.', 'W', 'E', 'M', \"'\", '`', 'U', 'L', 'F', '-', '$']) \n",
      "\n",
      "N 713562\n",
      "V 276967\n",
      "I 263192\n",
      "P 229358\n",
      "D 220756\n",
      ", 192339\n",
      "C 131041\n",
      "R 112702\n",
      ". 95307\n",
      "J 78941\n",
      ": 54135\n",
      "T 47435\n",
      "M 42008\n",
      "W 40901\n",
      "' 19310\n",
      "` 14328\n",
      "E 5057\n",
      "U 957\n",
      "- 284\n",
      "L 178\n",
      "F 73\n",
      "$ 12\n"
     ]
    }
   ],
   "source": [
    "gutenberg_tag_classes_fd = nltk.FreqDist(tag[0] for (word, tag) in gutenberg_tagged1)\n",
    "print(gutenberg_tag_classes_fd.keys(), '\\n')\n",
    "for tag,freq in gutenberg_tag_classes_fd.most_common():\n",
    "    print (tag, freq)"
   ]
  },
  {
   "cell_type": "code",
   "execution_count": null,
   "id": "e562cc6a",
   "metadata": {},
   "outputs": [],
   "source": []
  }
 ],
 "metadata": {
  "kernelspec": {
   "display_name": "Python 3 (ipykernel)",
   "language": "python",
   "name": "python3"
  },
  "language_info": {
   "codemirror_mode": {
    "name": "ipython",
    "version": 3
   },
   "file_extension": ".py",
   "mimetype": "text/x-python",
   "name": "python",
   "nbconvert_exporter": "python",
   "pygments_lexer": "ipython3",
   "version": "3.9.12"
  }
 },
 "nbformat": 4,
 "nbformat_minor": 5
}
