{
 "cells": [
  {
   "cell_type": "code",
   "execution_count": 4,
   "id": "e1102af9",
   "metadata": {},
   "outputs": [
    {
     "data": {
      "text/plain": [
       "[Synset('dog.n.01'),\n",
       " Synset('frump.n.01'),\n",
       " Synset('dog.n.03'),\n",
       " Synset('cad.n.01'),\n",
       " Synset('frank.n.02'),\n",
       " Synset('pawl.n.01'),\n",
       " Synset('andiron.n.01'),\n",
       " Synset('chase.v.01')]"
      ]
     },
     "execution_count": 4,
     "metadata": {},
     "output_type": "execute_result"
    }
   ],
   "source": [
    "import nltk\n",
    "from nltk.corpus import wordnet as wn\n",
    "\n",
    "wn.synsets('dog')"
   ]
  },
  {
   "cell_type": "code",
   "execution_count": 5,
   "id": "33ef3e50",
   "metadata": {},
   "outputs": [
    {
     "data": {
      "text/plain": [
       "['dog', 'domestic_dog', 'Canis_familiaris']"
      ]
     },
     "execution_count": 5,
     "metadata": {},
     "output_type": "execute_result"
    }
   ],
   "source": [
    "wn.synset('dog.n.01').lemma_names()"
   ]
  },
  {
   "cell_type": "code",
   "execution_count": 6,
   "id": "54cf4a19",
   "metadata": {},
   "outputs": [
    {
     "data": {
      "text/plain": [
       "[Lemma('dog.n.01.dog'),\n",
       " Lemma('dog.n.01.domestic_dog'),\n",
       " Lemma('dog.n.01.Canis_familiaris')]"
      ]
     },
     "execution_count": 6,
     "metadata": {},
     "output_type": "execute_result"
    }
   ],
   "source": [
    "wn.synset('dog.n.01').lemmas()"
   ]
  },
  {
   "cell_type": "code",
   "execution_count": 7,
   "id": "be75ffe4",
   "metadata": {},
   "outputs": [
    {
     "data": {
      "text/plain": [
       "Synset('dog.n.01')"
      ]
     },
     "execution_count": 7,
     "metadata": {},
     "output_type": "execute_result"
    }
   ],
   "source": [
    "wn.lemma('dog.n.01.domestic_dog').synset()"
   ]
  },
  {
   "cell_type": "code",
   "execution_count": 8,
   "id": "ecfabbbb",
   "metadata": {},
   "outputs": [
    {
     "name": "stdout",
     "output_type": "stream",
     "text": [
      "Synset('dog.n.01') :   ['dog', 'domestic_dog', 'Canis_familiaris']\n",
      "Synset('frump.n.01') :   ['frump', 'dog']\n",
      "Synset('dog.n.03') :   ['dog']\n",
      "Synset('cad.n.01') :   ['cad', 'bounder', 'blackguard', 'dog', 'hound', 'heel']\n",
      "Synset('frank.n.02') :   ['frank', 'frankfurter', 'hotdog', 'hot_dog', 'dog', 'wiener', 'wienerwurst', 'weenie']\n",
      "Synset('pawl.n.01') :   ['pawl', 'detent', 'click', 'dog']\n",
      "Synset('andiron.n.01') :   ['andiron', 'firedog', 'dog', 'dog-iron']\n",
      "Synset('chase.v.01') :   ['chase', 'chase_after', 'trail', 'tail', 'tag', 'give_chase', 'dog', 'go_after', 'track']\n"
     ]
    }
   ],
   "source": [
    "for synset in wn.synsets('dog'):\n",
    "    print (synset, \":  \", synset.lemma_names())"
   ]
  },
  {
   "cell_type": "code",
   "execution_count": 9,
   "id": "5f914609",
   "metadata": {},
   "outputs": [
    {
     "data": {
      "text/plain": [
       "'a member of the genus Canis (probably descended from the common wolf) that has been domesticated by man since prehistoric times; occurs in many breeds'"
      ]
     },
     "execution_count": 9,
     "metadata": {},
     "output_type": "execute_result"
    }
   ],
   "source": [
    "wn.synset('dog.n.01').definition()"
   ]
  },
  {
   "cell_type": "code",
   "execution_count": 10,
   "id": "179e46d8",
   "metadata": {},
   "outputs": [
    {
     "data": {
      "text/plain": [
       "['the dog barked all night']"
      ]
     },
     "execution_count": 10,
     "metadata": {},
     "output_type": "execute_result"
    }
   ],
   "source": [
    "wn.synset('dog.n.01').examples()"
   ]
  },
  {
   "cell_type": "code",
   "execution_count": 11,
   "id": "dfc8e27d",
   "metadata": {},
   "outputs": [
    {
     "name": "stdout",
     "output_type": "stream",
     "text": [
      "Synset('dog.n.01') :  a member of the genus Canis (probably descended from the common wolf) that has been domesticated by man since prehistoric times; occurs in many breeds\n",
      "Synset('frump.n.01') :  a dull unattractive unpleasant girl or woman\n",
      "Synset('dog.n.03') :  informal term for a man\n",
      "Synset('cad.n.01') :  someone who is morally reprehensible\n",
      "Synset('frank.n.02') :  a smooth-textured sausage of minced beef or pork usually smoked; often served on a bread roll\n",
      "Synset('pawl.n.01') :  a hinged catch that fits into a notch of a ratchet to move a wheel forward or prevent it from moving backward\n",
      "Synset('andiron.n.01') :  metal supports for logs in a fireplace\n",
      "Synset('chase.v.01') :  go after with the intent to catch\n"
     ]
    }
   ],
   "source": [
    "for synset in wn.synsets('dog'):\n",
    "    print (synset, \": \", synset.definition())"
   ]
  },
  {
   "cell_type": "code",
   "execution_count": 12,
   "id": "e6a0fec5",
   "metadata": {},
   "outputs": [
    {
     "name": "stdout",
     "output_type": "stream",
     "text": [
      "Synset('dog.n.01') :  \n",
      "      ['dog', 'domestic_dog', 'Canis_familiaris']\n",
      "      a member of the genus Canis (probably descended from the common wolf) that has been domesticated by man since prehistoric times; occurs in many breeds\n",
      "      ['the dog barked all night']\n",
      "Synset('frump.n.01') :  \n",
      "      ['frump', 'dog']\n",
      "      a dull unattractive unpleasant girl or woman\n",
      "      ['she got a reputation as a frump', \"she's a real dog\"]\n",
      "Synset('dog.n.03') :  \n",
      "      ['dog']\n",
      "      informal term for a man\n",
      "      ['you lucky dog']\n",
      "Synset('cad.n.01') :  \n",
      "      ['cad', 'bounder', 'blackguard', 'dog', 'hound', 'heel']\n",
      "      someone who is morally reprehensible\n",
      "      ['you dirty dog']\n",
      "Synset('frank.n.02') :  \n",
      "      ['frank', 'frankfurter', 'hotdog', 'hot_dog', 'dog', 'wiener', 'wienerwurst', 'weenie']\n",
      "      a smooth-textured sausage of minced beef or pork usually smoked; often served on a bread roll\n",
      "      []\n",
      "Synset('pawl.n.01') :  \n",
      "      ['pawl', 'detent', 'click', 'dog']\n",
      "      a hinged catch that fits into a notch of a ratchet to move a wheel forward or prevent it from moving backward\n",
      "      []\n",
      "Synset('andiron.n.01') :  \n",
      "      ['andiron', 'firedog', 'dog', 'dog-iron']\n",
      "      metal supports for logs in a fireplace\n",
      "      ['the andirons were too hot to touch']\n",
      "Synset('chase.v.01') :  \n",
      "      ['chase', 'chase_after', 'trail', 'tail', 'tag', 'give_chase', 'dog', 'go_after', 'track']\n",
      "      go after with the intent to catch\n",
      "      ['The policeman chased the mugger down the alley', 'the dog chased the rabbit']\n"
     ]
    }
   ],
   "source": [
    "for synset in wn.synsets('dog'):\n",
    "    print (synset, \":  \")\n",
    "    print ('     ', synset.lemma_names())\n",
    "    print ('     ', synset.definition())\n",
    "    print ('     ', synset.examples())"
   ]
  },
  {
   "cell_type": "code",
   "execution_count": 13,
   "id": "2b700c12",
   "metadata": {},
   "outputs": [
    {
     "data": {
      "text/plain": [
       "[Synset('canine.n.02'), Synset('domestic_animal.n.01')]"
      ]
     },
     "execution_count": 13,
     "metadata": {},
     "output_type": "execute_result"
    }
   ],
   "source": [
    "dog1 = wn.synset('dog.n.01')\n",
    "dog1.hypernyms()"
   ]
  },
  {
   "cell_type": "code",
   "execution_count": 14,
   "id": "25f7c046",
   "metadata": {
    "scrolled": false
   },
   "outputs": [
    {
     "data": {
      "text/plain": [
       "[Synset('basenji.n.01'),\n",
       " Synset('corgi.n.01'),\n",
       " Synset('cur.n.01'),\n",
       " Synset('dalmatian.n.02'),\n",
       " Synset('great_pyrenees.n.01'),\n",
       " Synset('griffon.n.02'),\n",
       " Synset('hunting_dog.n.01'),\n",
       " Synset('lapdog.n.01'),\n",
       " Synset('leonberg.n.01'),\n",
       " Synset('mexican_hairless.n.01'),\n",
       " Synset('newfoundland.n.01'),\n",
       " Synset('pooch.n.01'),\n",
       " Synset('poodle.n.01'),\n",
       " Synset('pug.n.01'),\n",
       " Synset('puppy.n.01'),\n",
       " Synset('spitz.n.01'),\n",
       " Synset('toy_dog.n.01'),\n",
       " Synset('working_dog.n.01')]"
      ]
     },
     "execution_count": 14,
     "metadata": {},
     "output_type": "execute_result"
    }
   ],
   "source": [
    "dog1.hyponyms()"
   ]
  },
  {
   "cell_type": "code",
   "execution_count": 15,
   "id": "77f62485",
   "metadata": {},
   "outputs": [
    {
     "data": {
      "text/plain": [
       "[Synset('entity.n.01')]"
      ]
     },
     "execution_count": 15,
     "metadata": {},
     "output_type": "execute_result"
    }
   ],
   "source": [
    "dog1.root_hypernyms()"
   ]
  },
  {
   "cell_type": "code",
   "execution_count": 16,
   "id": "43e127b3",
   "metadata": {},
   "outputs": [
    {
     "data": {
      "text/plain": [
       "[Synset('flag.n.07')]"
      ]
     },
     "execution_count": 16,
     "metadata": {},
     "output_type": "execute_result"
    }
   ],
   "source": [
    "dog1.part_meronyms()"
   ]
  },
  {
   "cell_type": "code",
   "execution_count": 17,
   "id": "81172678",
   "metadata": {},
   "outputs": [
    {
     "name": "stdout",
     "output_type": "stream",
     "text": [
      "['flag'] a conspicuously marked or shaped tail []\n"
     ]
    }
   ],
   "source": [
    "print (wn.synset('flag.n.07').lemma_names(),wn.synset('flag.n.07').definition(), wn.synset('flag.n.07').examples()) "
   ]
  },
  {
   "cell_type": "code",
   "execution_count": 18,
   "id": "3b9d7084",
   "metadata": {},
   "outputs": [
    {
     "data": {
      "text/plain": [
       "[Synset('canis.n.01'), Synset('pack.n.06')]"
      ]
     },
     "execution_count": 18,
     "metadata": {},
     "output_type": "execute_result"
    }
   ],
   "source": [
    "dog1.member_holonyms()"
   ]
  },
  {
   "cell_type": "code",
   "execution_count": 19,
   "id": "7e9d2057",
   "metadata": {},
   "outputs": [
    {
     "data": {
      "text/plain": [
       "['good']"
      ]
     },
     "execution_count": 19,
     "metadata": {},
     "output_type": "execute_result"
    }
   ],
   "source": [
    "good1 = wn.synset('good.a.01')\n",
    "good1.lemma_names()"
   ]
  },
  {
   "cell_type": "code",
   "execution_count": 25,
   "id": "927822de",
   "metadata": {},
   "outputs": [
    {
     "name": "stdout",
     "output_type": "stream",
     "text": [
      "[Lemma('good.a.01.good')]\n"
     ]
    },
    {
     "data": {
      "text/plain": [
       "[Lemma('bad.a.01.bad')]"
      ]
     },
     "execution_count": 25,
     "metadata": {},
     "output_type": "execute_result"
    }
   ],
   "source": [
    "print(good1.lemmas())\n",
    "good1.lemmas()[0].antonyms()"
   ]
  },
  {
   "cell_type": "code",
   "execution_count": 21,
   "id": "9113d530",
   "metadata": {},
   "outputs": [
    {
     "data": {
      "text/plain": [
       "[Synset('step.v.01')]"
      ]
     },
     "execution_count": 21,
     "metadata": {},
     "output_type": "execute_result"
    }
   ],
   "source": [
    "wn.synset('walk.v.01').entailments()"
   ]
  },
  {
   "cell_type": "code",
   "execution_count": 22,
   "id": "bb7ed530",
   "metadata": {},
   "outputs": [
    {
     "data": {
      "text/plain": [
       "2"
      ]
     },
     "execution_count": 22,
     "metadata": {},
     "output_type": "execute_result"
    }
   ],
   "source": [
    "dog1.hypernyms()\n",
    "paths=dog1.hypernym_paths()\n",
    "len(paths) "
   ]
  },
  {
   "cell_type": "code",
   "execution_count": 28,
   "id": "ed9cc7d8",
   "metadata": {},
   "outputs": [
    {
     "data": {
      "text/plain": [
       "['entity.n.01',\n",
       " 'physical_entity.n.01',\n",
       " 'object.n.01',\n",
       " 'whole.n.02',\n",
       " 'living_thing.n.01',\n",
       " 'organism.n.01',\n",
       " 'animal.n.01',\n",
       " 'chordate.n.01',\n",
       " 'vertebrate.n.01',\n",
       " 'mammal.n.01',\n",
       " 'placental.n.01',\n",
       " 'carnivore.n.01',\n",
       " 'canine.n.02',\n",
       " 'dog.n.01']"
      ]
     },
     "execution_count": 28,
     "metadata": {},
     "output_type": "execute_result"
    }
   ],
   "source": [
    "[synset.name() for synset in paths[0]] "
   ]
  },
  {
   "cell_type": "code",
   "execution_count": 29,
   "id": "2add0100",
   "metadata": {},
   "outputs": [
    {
     "data": {
      "text/plain": [
       "['entity.n.01',\n",
       " 'physical_entity.n.01',\n",
       " 'object.n.01',\n",
       " 'whole.n.02',\n",
       " 'living_thing.n.01',\n",
       " 'organism.n.01',\n",
       " 'animal.n.01',\n",
       " 'domestic_animal.n.01',\n",
       " 'dog.n.01']"
      ]
     },
     "execution_count": 29,
     "metadata": {},
     "output_type": "execute_result"
    }
   ],
   "source": [
    "[synset.name() for synset in paths[1]] "
   ]
  },
  {
   "cell_type": "code",
   "execution_count": 24,
   "id": "7161fe38",
   "metadata": {},
   "outputs": [],
   "source": [
    "right = wn.synset('right_whale.n.01') \n",
    "orca = wn.synset('orca.n.01') \n",
    "minke = wn.synset('minke_whale.n.01') "
   ]
  },
  {
   "cell_type": "code",
   "execution_count": 30,
   "id": "146c0bda",
   "metadata": {
    "scrolled": true
   },
   "outputs": [
    {
     "data": {
      "text/plain": [
       "[[Synset('entity.n.01'),\n",
       "  Synset('physical_entity.n.01'),\n",
       "  Synset('object.n.01'),\n",
       "  Synset('whole.n.02'),\n",
       "  Synset('living_thing.n.01'),\n",
       "  Synset('organism.n.01'),\n",
       "  Synset('animal.n.01'),\n",
       "  Synset('chordate.n.01'),\n",
       "  Synset('vertebrate.n.01'),\n",
       "  Synset('mammal.n.01'),\n",
       "  Synset('placental.n.01'),\n",
       "  Synset('aquatic_mammal.n.01'),\n",
       "  Synset('cetacean.n.01'),\n",
       "  Synset('whale.n.02'),\n",
       "  Synset('baleen_whale.n.01'),\n",
       "  Synset('right_whale.n.01')]]"
      ]
     },
     "execution_count": 30,
     "metadata": {},
     "output_type": "execute_result"
    }
   ],
   "source": [
    "right.hypernym_paths()"
   ]
  },
  {
   "cell_type": "code",
   "execution_count": 31,
   "id": "97974f19",
   "metadata": {},
   "outputs": [
    {
     "data": {
      "text/plain": [
       "[[Synset('entity.n.01'),\n",
       "  Synset('physical_entity.n.01'),\n",
       "  Synset('object.n.01'),\n",
       "  Synset('whole.n.02'),\n",
       "  Synset('living_thing.n.01'),\n",
       "  Synset('organism.n.01'),\n",
       "  Synset('animal.n.01'),\n",
       "  Synset('chordate.n.01'),\n",
       "  Synset('vertebrate.n.01'),\n",
       "  Synset('mammal.n.01'),\n",
       "  Synset('placental.n.01'),\n",
       "  Synset('aquatic_mammal.n.01'),\n",
       "  Synset('cetacean.n.01'),\n",
       "  Synset('whale.n.02'),\n",
       "  Synset('baleen_whale.n.01'),\n",
       "  Synset('rorqual.n.01'),\n",
       "  Synset('lesser_rorqual.n.01')]]"
      ]
     },
     "execution_count": 31,
     "metadata": {},
     "output_type": "execute_result"
    }
   ],
   "source": [
    "minke.hypernym_paths()"
   ]
  },
  {
   "cell_type": "code",
   "execution_count": 32,
   "id": "38bfe877",
   "metadata": {},
   "outputs": [
    {
     "data": {
      "text/plain": [
       "[[Synset('entity.n.01'),\n",
       "  Synset('physical_entity.n.01'),\n",
       "  Synset('object.n.01'),\n",
       "  Synset('whole.n.02'),\n",
       "  Synset('living_thing.n.01'),\n",
       "  Synset('organism.n.01'),\n",
       "  Synset('animal.n.01'),\n",
       "  Synset('chordate.n.01'),\n",
       "  Synset('vertebrate.n.01'),\n",
       "  Synset('mammal.n.01'),\n",
       "  Synset('placental.n.01'),\n",
       "  Synset('aquatic_mammal.n.01'),\n",
       "  Synset('cetacean.n.01'),\n",
       "  Synset('whale.n.02'),\n",
       "  Synset('toothed_whale.n.01'),\n",
       "  Synset('dolphin.n.02'),\n",
       "  Synset('killer_whale.n.01')]]"
      ]
     },
     "execution_count": 32,
     "metadata": {},
     "output_type": "execute_result"
    }
   ],
   "source": [
    "orca.hypernym_paths()"
   ]
  },
  {
   "cell_type": "code",
   "execution_count": 40,
   "id": "c1687047",
   "metadata": {},
   "outputs": [
    {
     "data": {
      "text/plain": [
       "[Synset('baleen_whale.n.01')]"
      ]
     },
     "execution_count": 40,
     "metadata": {},
     "output_type": "execute_result"
    }
   ],
   "source": [
    "right.lowest_common_hypernyms(minke)"
   ]
  },
  {
   "cell_type": "code",
   "execution_count": 41,
   "id": "e4d139e5",
   "metadata": {},
   "outputs": [
    {
     "data": {
      "text/plain": [
       "[Synset('whale.n.02')]"
      ]
     },
     "execution_count": 41,
     "metadata": {},
     "output_type": "execute_result"
    }
   ],
   "source": [
    "right.lowest_common_hypernyms(orca)"
   ]
  },
  {
   "cell_type": "code",
   "execution_count": 42,
   "id": "acdaf449",
   "metadata": {},
   "outputs": [],
   "source": [
    "whale = wn.synset('whale.n.02')\n",
    "baleen = wn.synset('baleen_whale.n.01')"
   ]
  },
  {
   "cell_type": "code",
   "execution_count": 43,
   "id": "b5b2b7c8",
   "metadata": {},
   "outputs": [
    {
     "name": "stdout",
     "output_type": "stream",
     "text": [
      "15 16 16 13 14\n"
     ]
    }
   ],
   "source": [
    "print(right.min_depth(),\n",
    "minke.min_depth(),\n",
    "orca.min_depth(),\n",
    "whale.min_depth(),\n",
    "baleen.min_depth()\n",
    ")"
   ]
  },
  {
   "cell_type": "code",
   "execution_count": 34,
   "id": "bc877845",
   "metadata": {},
   "outputs": [
    {
     "data": {
      "text/plain": [
       "14"
      ]
     },
     "execution_count": 34,
     "metadata": {},
     "output_type": "execute_result"
    }
   ],
   "source": [
    "wn.synset('baleen_whale.n.01').min_depth() "
   ]
  },
  {
   "cell_type": "code",
   "execution_count": 35,
   "id": "5c6c717e",
   "metadata": {},
   "outputs": [
    {
     "data": {
      "text/plain": [
       "0"
      ]
     },
     "execution_count": 35,
     "metadata": {},
     "output_type": "execute_result"
    }
   ],
   "source": [
    "wn.synset('entity.n.01').min_depth()"
   ]
  },
  {
   "cell_type": "code",
   "execution_count": 36,
   "id": "aced235d",
   "metadata": {},
   "outputs": [
    {
     "data": {
      "text/plain": [
       "0.25"
      ]
     },
     "execution_count": 36,
     "metadata": {},
     "output_type": "execute_result"
    }
   ],
   "source": [
    "right.path_similarity(minke) "
   ]
  },
  {
   "cell_type": "code",
   "execution_count": 37,
   "id": "e561f23d",
   "metadata": {},
   "outputs": [
    {
     "data": {
      "text/plain": [
       "0.16666666666666666"
      ]
     },
     "execution_count": 37,
     "metadata": {},
     "output_type": "execute_result"
    }
   ],
   "source": [
    "right.path_similarity(orca)"
   ]
  },
  {
   "cell_type": "code",
   "execution_count": 45,
   "id": "f13fdbbb",
   "metadata": {},
   "outputs": [],
   "source": [
    "tortoise = wn.synset('tortoise.n.01')"
   ]
  },
  {
   "cell_type": "code",
   "execution_count": 46,
   "id": "f4f825a9",
   "metadata": {},
   "outputs": [],
   "source": [
    "novel = wn.synset('novel.n.01')"
   ]
  },
  {
   "cell_type": "code",
   "execution_count": 47,
   "id": "7e445a18",
   "metadata": {},
   "outputs": [
    {
     "name": "stdout",
     "output_type": "stream",
     "text": [
      "[Synset('vertebrate.n.01')]\n",
      "[Synset('entity.n.01')]\n"
     ]
    }
   ],
   "source": [
    "print(right.lowest_common_hypernyms(tortoise))\n",
    "print(right.lowest_common_hypernyms(novel))"
   ]
  },
  {
   "cell_type": "code",
   "execution_count": 49,
   "id": "1df84892",
   "metadata": {},
   "outputs": [
    {
     "name": "stdout",
     "output_type": "stream",
     "text": [
      "1.845826690498331\n",
      "1.072636802264849\n",
      "0.5020919437972361\n"
     ]
    }
   ],
   "source": [
    "print(right.lch_similarity(orca))\n",
    "print(right.lch_similarity(tortoise))\n",
    "print(right.lch_similarity(novel))"
   ]
  },
  {
   "cell_type": "code",
   "execution_count": 50,
   "id": "87edc6e2",
   "metadata": {},
   "outputs": [],
   "source": [
    "from nltk.corpus import wordnet_ic\n",
    "brown_ic = wordnet_ic.ic('ic-brown.dat')"
   ]
  },
  {
   "cell_type": "code",
   "execution_count": 51,
   "id": "bff7d8b2",
   "metadata": {},
   "outputs": [
    {
     "name": "stdout",
     "output_type": "stream",
     "text": [
      "10.939239388446227\n",
      "5.2175784741185165\n",
      "-0.0\n"
     ]
    }
   ],
   "source": [
    "print(right.res_similarity(orca, brown_ic))\n",
    "print(right.res_similarity(tortoise, brown_ic))\n",
    "print(right.res_similarity(novel, brown_ic))"
   ]
  },
  {
   "cell_type": "code",
   "execution_count": 52,
   "id": "662ba87e",
   "metadata": {},
   "outputs": [],
   "source": [
    "from nltk.corpus import sentiwordnet as swn"
   ]
  },
  {
   "cell_type": "code",
   "execution_count": 53,
   "id": "8606edcb",
   "metadata": {},
   "outputs": [
    {
     "name": "stdout",
     "output_type": "stream",
     "text": [
      "[SentiSynset('dislocation.n.02'), SentiSynset('breakdown.n.02'), SentiSynset('breakdown.n.03'), SentiSynset('breakdown.n.04')]\n",
      "[Synset('dislocation.n.02'), Synset('breakdown.n.02'), Synset('breakdown.n.03'), Synset('breakdown.n.04')]\n"
     ]
    }
   ],
   "source": [
    "print(list(swn.senti_synsets('breakdown')))\n",
    "print(wn.synsets('breakdown'))"
   ]
  },
  {
   "cell_type": "code",
   "execution_count": 57,
   "id": "064b4e8a",
   "metadata": {},
   "outputs": [
    {
     "name": "stdout",
     "output_type": "stream",
     "text": [
      "<breakdown.n.03: PosScore=0.0 NegScore=0.25>\n"
     ]
    }
   ],
   "source": [
    "breakdown3 = swn.senti_synset('breakdown.n.03')\n",
    "print (breakdown3)"
   ]
  },
  {
   "cell_type": "code",
   "execution_count": 59,
   "id": "eae143d4",
   "metadata": {},
   "outputs": [
    {
     "name": "stdout",
     "output_type": "stream",
     "text": [
      "0.0 0.25 0.75\n"
     ]
    }
   ],
   "source": [
    "print(breakdown3.pos_score(),\n",
    "breakdown3.neg_score(),\n",
    "breakdown3.obj_score())"
   ]
  },
  {
   "cell_type": "code",
   "execution_count": 60,
   "id": "4fceacef",
   "metadata": {},
   "outputs": [
    {
     "name": "stdout",
     "output_type": "stream",
     "text": [
      "<dog.n.01: PosScore=0.0 NegScore=0.0>\n",
      "1.0\n"
     ]
    }
   ],
   "source": [
    "dogswn1 = swn.senti_synset('dog.n.01')\n",
    "print(dogswn1)\n",
    "print(dogswn1.obj_score())"
   ]
  },
  {
   "cell_type": "code",
   "execution_count": 62,
   "id": "0bdca61c",
   "metadata": {},
   "outputs": [
    {
     "name": "stdout",
     "output_type": "stream",
     "text": [
      "<good.a.01: PosScore=0.75 NegScore=0.0>\n",
      "0.25\n"
     ]
    }
   ],
   "source": [
    "goodswn1 = swn.senti_synset('good.a.01')\n",
    "print(goodswn1)\n",
    "print(goodswn1.obj_score())"
   ]
  },
  {
   "cell_type": "code",
   "execution_count": 63,
   "id": "05f5f1d6",
   "metadata": {},
   "outputs": [
    {
     "name": "stdout",
     "output_type": "stream",
     "text": [
      "[Synset('ebullient.s.01'), Synset('excessive.s.02'), Synset('exuberant.s.03')]\n",
      "<exuberant.s.03: PosScore=0.0 NegScore=0.25>\n"
     ]
    }
   ],
   "source": [
    "print(wn.synsets('exuberant'))\n",
    "ex3 = swn.senti_synset('exuberant.s.03')\n",
    "print(ex3)"
   ]
  },
  {
   "cell_type": "code",
   "execution_count": 64,
   "id": "f9f3d3d2",
   "metadata": {},
   "outputs": [
    {
     "data": {
      "text/plain": [
       "[Synset('internet.n.01'),\n",
       " Synset('net.n.02'),\n",
       " Synset('net_income.n.01'),\n",
       " Synset('net.n.04'),\n",
       " Synset('net.n.05'),\n",
       " Synset('net.n.06'),\n",
       " Synset('net.v.01'),\n",
       " Synset('net.v.02'),\n",
       " Synset('web.v.01'),\n",
       " Synset('net.v.04'),\n",
       " Synset('net.a.01'),\n",
       " Synset('final.s.02')]"
      ]
     },
     "execution_count": 64,
     "metadata": {},
     "output_type": "execute_result"
    }
   ],
   "source": [
    "wn.synsets('net')"
   ]
  },
  {
   "cell_type": "code",
   "execution_count": 68,
   "id": "64959e51",
   "metadata": {},
   "outputs": [
    {
     "name": "stdout",
     "output_type": "stream",
     "text": [
      "Synset('internet.n.01') :  \n",
      "      ['internet', 'net', 'cyberspace']\n",
      "      a computer network consisting of a worldwide network of computer networks that use the TCP/IP network protocols to facilitate data transmission and exchange\n",
      "      []\n",
      "Synset('net.n.02') :  \n",
      "      ['net']\n",
      "      a trap made of netting to catch fish or birds or insects\n",
      "      []\n",
      "Synset('net_income.n.01') :  \n",
      "      ['net_income', 'net', 'net_profit', 'lucre', 'profit', 'profits', 'earnings']\n",
      "      the excess of revenues over outlays in a given period of time (including depreciation and other non-cash expenses)\n",
      "      []\n",
      "Synset('net.n.04') :  \n",
      "      ['net']\n",
      "      a goal lined with netting (as in soccer or hockey)\n",
      "      []\n",
      "Synset('net.n.05') :  \n",
      "      ['net']\n",
      "      game equipment consisting of a strip of netting dividing the playing area in tennis or badminton\n",
      "      []\n",
      "Synset('net.n.06') :  \n",
      "      ['net', 'network', 'mesh', 'meshing', 'meshwork']\n",
      "      an open fabric of string or rope or wire woven together at regular intervals\n",
      "      []\n",
      "Synset('net.v.01') :  \n",
      "      ['net', 'sack', 'sack_up', 'clear']\n",
      "      make as a net profit\n",
      "      ['The company cleared $1 million']\n",
      "Synset('net.v.02') :  \n",
      "      ['net', 'clear']\n",
      "      yield as a net profit\n",
      "      ['This sale netted me $1 million']\n",
      "Synset('web.v.01') :  \n",
      "      ['web', 'net']\n",
      "      construct or form a web, as if by weaving\n",
      "      []\n",
      "Synset('net.v.04') :  \n",
      "      ['net', 'nett']\n",
      "      catch with a net\n",
      "      ['net a fish']\n",
      "Synset('net.a.01') :  \n",
      "      ['net', 'nett']\n",
      "      remaining after all deductions\n",
      "      ['net profit']\n",
      "Synset('final.s.02') :  \n",
      "      ['final', 'last', 'net']\n",
      "      conclusive in a process or progression\n",
      "      ['the final answer', 'a last resort', 'the net result']\n"
     ]
    }
   ],
   "source": [
    "for synset in wn.synsets('net'):\n",
    "    print (synset, \":  \")\n",
    "    print ('     ', synset.lemma_names())\n",
    "    print ('     ', synset.definition())\n",
    "    print ('     ', synset.examples())"
   ]
  },
  {
   "cell_type": "code",
   "execution_count": 70,
   "id": "5ce0597f",
   "metadata": {},
   "outputs": [],
   "source": [
    "net = wn.synset('internet.n.01')"
   ]
  },
  {
   "cell_type": "code",
   "execution_count": 72,
   "id": "751347bf",
   "metadata": {},
   "outputs": [
    {
     "data": {
      "text/plain": [
       "[Synset('computer_network.n.01')]"
      ]
     },
     "execution_count": 72,
     "metadata": {},
     "output_type": "execute_result"
    }
   ],
   "source": [
    "net.hypernyms()"
   ]
  },
  {
   "cell_type": "code",
   "execution_count": 66,
   "id": "02064952",
   "metadata": {
    "scrolled": true
   },
   "outputs": [
    {
     "data": {
      "text/plain": [
       "[[Synset('entity.n.01'),\n",
       "  Synset('physical_entity.n.01'),\n",
       "  Synset('object.n.01'),\n",
       "  Synset('whole.n.02'),\n",
       "  Synset('artifact.n.01'),\n",
       "  Synset('instrumentality.n.03'),\n",
       "  Synset('system.n.01'),\n",
       "  Synset('network.n.05'),\n",
       "  Synset('computer_network.n.01'),\n",
       "  Synset('internet.n.01')]]"
      ]
     },
     "execution_count": 66,
     "metadata": {},
     "output_type": "execute_result"
    }
   ],
   "source": [
    "net.hypernym_paths()"
   ]
  },
  {
   "cell_type": "code",
   "execution_count": 73,
   "id": "84caa85c",
   "metadata": {},
   "outputs": [
    {
     "name": "stdout",
     "output_type": "stream",
     "text": [
      "Help on WordNetCorpusReader in module nltk.corpus.reader.wordnet object:\n",
      "\n",
      "class WordNetCorpusReader(nltk.corpus.reader.api.CorpusReader)\n",
      " |  WordNetCorpusReader(root, omw_reader)\n",
      " |  \n",
      " |  A corpus reader used to access wordnet or its variants.\n",
      " |  \n",
      " |  Method resolution order:\n",
      " |      WordNetCorpusReader\n",
      " |      nltk.corpus.reader.api.CorpusReader\n",
      " |      builtins.object\n",
      " |  \n",
      " |  Methods defined here:\n",
      " |  \n",
      " |  __init__(self, root, omw_reader)\n",
      " |      Construct a new wordnet corpus reader, with the given root\n",
      " |      directory.\n",
      " |  \n",
      " |  all_eng_synsets(self, pos=None)\n",
      " |  \n",
      " |  all_lemma_names(self, pos=None, lang='eng')\n",
      " |      Return all lemma names for all synsets for the given\n",
      " |      part of speech tag and language or languages. If pos is\n",
      " |      not specified, all synsets for all parts of speech will\n",
      " |      be used.\n",
      " |  \n",
      " |  all_omw_synsets(self, pos=None, lang=None)\n",
      " |  \n",
      " |  all_synsets(self, pos=None, lang='eng')\n",
      " |      Iterate over all synsets with a given part of speech tag.\n",
      " |      If no pos is specified, all synsets for all parts of speech\n",
      " |      will be loaded.\n",
      " |  \n",
      " |  citation(self, lang='eng')\n",
      " |      Return the contents of citation.bib file (for omw)\n",
      " |      use lang=lang to get the citation for an individual language\n",
      " |  \n",
      " |  corpus2sk(self, corpus=None)\n",
      " |      Read sense key to synset id mapping,\n",
      " |      from index.sense file in corpus directory\n",
      " |  \n",
      " |  custom_lemmas(self, tab_file, lang)\n",
      " |      Reads a custom tab file containing mappings of lemmas in the given\n",
      " |      language to Princeton WordNet 3.0 synset offsets, allowing NLTK's\n",
      " |      WordNet functions to then be used with that language.\n",
      " |      \n",
      " |      See the \"Tab files\" section at http://compling.hss.ntu.edu.sg/omw/ for\n",
      " |      documentation on the Multilingual WordNet tab file format.\n",
      " |      \n",
      " |      :param tab_file: Tab file as a file or file-like object\n",
      " |      :type: lang str\n",
      " |      :param: lang ISO 639-3 code of the language of the tab file\n",
      " |  \n",
      " |  digraph(self, inputs, rel=<function WordNetCorpusReader.<lambda> at 0x0000018C47F5EEE0>, pos=None, maxdepth=-1, shapes=None, attr=None, verbose=False)\n",
      " |      Produce a graphical representation from 'inputs' (a list of\n",
      " |      start nodes, which can be a mix of Synsets, Lemmas and/or words),\n",
      " |      and a synset relation, for drawing with the 'dot' graph visualisation\n",
      " |      program from the Graphviz package.\n",
      " |      \n",
      " |      Return a string in the DOT graph file language, which can then be\n",
      " |      converted to an image by nltk.parse.dependencygraph.dot2img(dot_string).\n",
      " |      \n",
      " |      Optional Parameters:\n",
      " |      :rel: Wordnet synset relation\n",
      " |      :pos: for words, restricts Part of Speech to 'n', 'v', 'a' or 'r'\n",
      " |      :maxdepth: limit the longest path\n",
      " |      :shapes: dictionary of strings that trigger a specified shape\n",
      " |      :attr: dictionary with global graph attributes\n",
      " |      :verbose: warn about cycles\n",
      " |      \n",
      " |      >>> from nltk.corpus import wordnet as wn\n",
      " |      >>> print(wn.digraph([wn.synset('dog.n.01')]))\n",
      " |      digraph G {\n",
      " |      \"Synset('dog.n.01')\" -> \"Synset('domestic_animal.n.01')\";\n",
      " |      \"Synset('organism.n.01')\" -> \"Synset('living_thing.n.01')\";\n",
      " |      \"Synset('mammal.n.01')\" -> \"Synset('vertebrate.n.01')\";\n",
      " |      \"Synset('placental.n.01')\" -> \"Synset('mammal.n.01')\";\n",
      " |      \"Synset('animal.n.01')\" -> \"Synset('organism.n.01')\";\n",
      " |      \"Synset('vertebrate.n.01')\" -> \"Synset('chordate.n.01')\";\n",
      " |      \"Synset('chordate.n.01')\" -> \"Synset('animal.n.01')\";\n",
      " |      \"Synset('canine.n.02')\" -> \"Synset('carnivore.n.01')\";\n",
      " |      \"Synset('living_thing.n.01')\" -> \"Synset('whole.n.02')\";\n",
      " |      \"Synset('physical_entity.n.01')\" -> \"Synset('entity.n.01')\";\n",
      " |      \"Synset('carnivore.n.01')\" -> \"Synset('placental.n.01')\";\n",
      " |      \"Synset('object.n.01')\" -> \"Synset('physical_entity.n.01')\";\n",
      " |      \"Synset('whole.n.02')\" -> \"Synset('object.n.01')\";\n",
      " |      \"Synset('dog.n.01')\" -> \"Synset('canine.n.02')\";\n",
      " |      \"Synset('domestic_animal.n.01')\" -> \"Synset('animal.n.01')\";\n",
      " |      }\n",
      " |  \n",
      " |  doc(self, file='README', lang='eng')\n",
      " |      Return the contents of readme, license or citation file\n",
      " |      use lang=lang to get the file for an individual language\n",
      " |  \n",
      " |  get_version(self)\n",
      " |  \n",
      " |  ic(self, corpus, weight_senses_equally=False, smoothing=1.0)\n",
      " |      Creates an information content lookup dictionary from a corpus.\n",
      " |      \n",
      " |      :type corpus: CorpusReader\n",
      " |      :param corpus: The corpus from which we create an information\n",
      " |          content dictionary.\n",
      " |      :type weight_senses_equally: bool\n",
      " |      :param weight_senses_equally: If this is True, gives all\n",
      " |          possible senses equal weight rather than dividing by the\n",
      " |          number of possible senses.  (If a word has 3 synses, each\n",
      " |          sense gets 0.3333 per appearance when this is False, 1.0 when\n",
      " |          it is true.)\n",
      " |      :param smoothing: How much do we smooth synset counts (default is 1.0)\n",
      " |      :type smoothing: float\n",
      " |      :return: An information content dictionary\n",
      " |  \n",
      " |  jcn_similarity(self, synset1, synset2, ic, verbose=False)\n",
      " |      Jiang-Conrath Similarity:\n",
      " |      Return a score denoting how similar two word senses are, based on the\n",
      " |      Information Content (IC) of the Least Common Subsumer (most specific\n",
      " |      ancestor node) and that of the two input Synsets. The relationship is\n",
      " |      given by the equation 1 / (IC(s1) + IC(s2) - 2 * IC(lcs)).\n",
      " |      \n",
      " |      :type  other: Synset\n",
      " |      :param other: The ``Synset`` that this ``Synset`` is being compared to.\n",
      " |      :type  ic: dict\n",
      " |      :param ic: an information content object (as returned by\n",
      " |          ``nltk.corpus.wordnet_ic.ic()``).\n",
      " |      :return: A float score denoting the similarity of the two ``Synset``\n",
      " |          objects.\n",
      " |  \n",
      " |  langs(self)\n",
      " |      return a list of languages supported by Multilingual Wordnet\n",
      " |  \n",
      " |  lch_similarity(self, synset1, synset2, verbose=False, simulate_root=True)\n",
      " |      Leacock Chodorow Similarity:\n",
      " |      Return a score denoting how similar two word senses are, based on the\n",
      " |      shortest path that connects the senses (as above) and the maximum depth\n",
      " |      of the taxonomy in which the senses occur. The relationship is given as\n",
      " |      -log(p/2d) where p is the shortest path length and d is the taxonomy\n",
      " |      depth.\n",
      " |      \n",
      " |      :type  other: Synset\n",
      " |      :param other: The ``Synset`` that this ``Synset`` is being compared to.\n",
      " |      :type simulate_root: bool\n",
      " |      :param simulate_root: The various verb taxonomies do not\n",
      " |          share a single root which disallows this metric from working for\n",
      " |          synsets that are not connected. This flag (True by default)\n",
      " |          creates a fake root that connects all the taxonomies. Set it\n",
      " |          to false to disable this behavior. For the noun taxonomy,\n",
      " |          there is usually a default root except for WordNet version 1.6.\n",
      " |          If you are using wordnet 1.6, a fake root will be added for nouns\n",
      " |          as well.\n",
      " |      :return: A score denoting the similarity of the two ``Synset`` objects,\n",
      " |          normally greater than 0. None is returned if no connecting path\n",
      " |          could be found. If a ``Synset`` is compared with itself, the\n",
      " |          maximum score is returned, which varies depending on the taxonomy\n",
      " |          depth.\n",
      " |  \n",
      " |  lemma(self, name, lang='eng')\n",
      " |      Return lemma object that matches the name\n",
      " |  \n",
      " |  lemma_count(self, lemma)\n",
      " |      Return the frequency count for this Lemma\n",
      " |  \n",
      " |  lemma_from_key(self, key)\n",
      " |  \n",
      " |  lemmas(self, lemma, pos=None, lang='eng')\n",
      " |      Return all Lemma objects with a name matching the specified lemma\n",
      " |      name and part of speech tag. Matches any part of speech tag if none is\n",
      " |      specified.\n",
      " |  \n",
      " |  license(self, lang='eng')\n",
      " |      Return the contents of LICENSE (for omw)\n",
      " |      use lang=lang to get the license for an individual language\n",
      " |  \n",
      " |  lin_similarity(self, synset1, synset2, ic, verbose=False)\n",
      " |      Lin Similarity:\n",
      " |      Return a score denoting how similar two word senses are, based on the\n",
      " |      Information Content (IC) of the Least Common Subsumer (most specific\n",
      " |      ancestor node) and that of the two input Synsets. The relationship is\n",
      " |      given by the equation 2 * IC(lcs) / (IC(s1) + IC(s2)).\n",
      " |      \n",
      " |      :type other: Synset\n",
      " |      :param other: The ``Synset`` that this ``Synset`` is being compared to.\n",
      " |      :type ic: dict\n",
      " |      :param ic: an information content object (as returned by\n",
      " |          ``nltk.corpus.wordnet_ic.ic()``).\n",
      " |      :return: A float score denoting the similarity of the two ``Synset``\n",
      " |          objects, in the range 0 to 1.\n",
      " |  \n",
      " |  map_wn30(self)\n",
      " |      Mapping from Wordnet 3.0 to currently loaded Wordnet version\n",
      " |  \n",
      " |  morphy(self, form, pos=None, check_exceptions=True)\n",
      " |      Find a possible base form for the given form, with the given\n",
      " |      part of speech, by checking WordNet's list of exceptional\n",
      " |      forms, and by recursively stripping affixes for this part of\n",
      " |      speech until a form in WordNet is found.\n",
      " |      \n",
      " |      >>> from nltk.corpus import wordnet as wn\n",
      " |      >>> print(wn.morphy('dogs'))\n",
      " |      dog\n",
      " |      >>> print(wn.morphy('churches'))\n",
      " |      church\n",
      " |      >>> print(wn.morphy('aardwolves'))\n",
      " |      aardwolf\n",
      " |      >>> print(wn.morphy('abaci'))\n",
      " |      abacus\n",
      " |      >>> wn.morphy('hardrock', wn.ADV)\n",
      " |      >>> print(wn.morphy('book', wn.NOUN))\n",
      " |      book\n",
      " |      >>> wn.morphy('book', wn.ADJ)\n",
      " |  \n",
      " |  of2ss(self, of)\n",
      " |      take an id and return the synsets\n",
      " |  \n",
      " |  omw_prov(self)\n",
      " |      Return a provenance dictionary of the languages in  Multilingual Wordnet\n",
      " |  \n",
      " |  path_similarity(self, synset1, synset2, verbose=False, simulate_root=True)\n",
      " |      Path Distance Similarity:\n",
      " |      Return a score denoting how similar two word senses are, based on the\n",
      " |      shortest path that connects the senses in the is-a (hypernym/hypnoym)\n",
      " |      taxonomy. The score is in the range 0 to 1, except in those cases where\n",
      " |      a path cannot be found (will only be true for verbs as there are many\n",
      " |      distinct verb taxonomies), in which case None is returned. A score of\n",
      " |      1 represents identity i.e. comparing a sense with itself will return 1.\n",
      " |      \n",
      " |      :type other: Synset\n",
      " |      :param other: The ``Synset`` that this ``Synset`` is being compared to.\n",
      " |      :type simulate_root: bool\n",
      " |      :param simulate_root: The various verb taxonomies do not\n",
      " |          share a single root which disallows this metric from working for\n",
      " |          synsets that are not connected. This flag (True by default)\n",
      " |          creates a fake root that connects all the taxonomies. Set it\n",
      " |          to false to disable this behavior. For the noun taxonomy,\n",
      " |          there is usually a default root except for WordNet version 1.6.\n",
      " |          If you are using wordnet 1.6, a fake root will be added for nouns\n",
      " |          as well.\n",
      " |      :return: A score denoting the similarity of the two ``Synset`` objects,\n",
      " |          normally between 0 and 1. None is returned if no connecting path\n",
      " |          could be found. 1 is returned if a ``Synset`` is compared with\n",
      " |          itself.\n",
      " |  \n",
      " |  readme(self, lang='eng')\n",
      " |      Return the contents of README (for omw)\n",
      " |      use lang=lang to get the readme for an individual language\n",
      " |  \n",
      " |  res_similarity(self, synset1, synset2, ic, verbose=False)\n",
      " |      Resnik Similarity:\n",
      " |      Return a score denoting how similar two word senses are, based on the\n",
      " |      Information Content (IC) of the Least Common Subsumer (most specific\n",
      " |      ancestor node).\n",
      " |      \n",
      " |      :type  other: Synset\n",
      " |      :param other: The ``Synset`` that this ``Synset`` is being compared to.\n",
      " |      :type ic: dict\n",
      " |      :param ic: an information content object (as returned by\n",
      " |          ``nltk.corpus.wordnet_ic.ic()``).\n",
      " |      :return: A float score denoting the similarity of the two ``Synset``\n",
      " |          objects. Synsets whose LCS is the root node of the taxonomy will\n",
      " |          have a score of 0 (e.g. N['dog'][0] and N['table'][0]).\n",
      " |  \n",
      " |  ss2of(self, ss, lang=None)\n",
      " |      return the ID of the synset\n",
      " |  \n",
      " |  synset(self, name)\n",
      " |      #############################################################\n",
      " |      # Loading Synsets\n",
      " |      #############################################################\n",
      " |  \n",
      " |  synset_from_pos_and_offset(self, pos, offset)\n",
      " |      - pos: The synset's part of speech, matching one of the module level\n",
      " |        attributes ADJ, ADJ_SAT, ADV, NOUN or VERB ('a', 's', 'r', 'n', or 'v').\n",
      " |      - offset: The byte offset of this synset in the WordNet dict file\n",
      " |        for this pos.\n",
      " |      \n",
      " |      >>> from nltk.corpus import wordnet as wn\n",
      " |      >>> print(wn.synset_from_pos_and_offset('n', 1740))\n",
      " |      Synset('entity.n.01')\n",
      " |  \n",
      " |  synset_from_sense_key(self, sense_key)\n",
      " |      Retrieves synset based on a given sense_key. Sense keys can be\n",
      " |      obtained from lemma.key()\n",
      " |      \n",
      " |      From https://wordnet.princeton.edu/documentation/senseidx5wn:\n",
      " |      A sense_key is represented as::\n",
      " |      \n",
      " |          lemma % lex_sense (e.g. 'dog%1:18:01::')\n",
      " |      \n",
      " |      where lex_sense is encoded as::\n",
      " |      \n",
      " |          ss_type:lex_filenum:lex_id:head_word:head_id\n",
      " |      \n",
      " |      :lemma:       ASCII text of word/collocation, in lower case\n",
      " |      :ss_type:     synset type for the sense (1 digit int)\n",
      " |                    The synset type is encoded as follows::\n",
      " |      \n",
      " |                        1    NOUN\n",
      " |                        2    VERB\n",
      " |                        3    ADJECTIVE\n",
      " |                        4    ADVERB\n",
      " |                        5    ADJECTIVE SATELLITE\n",
      " |      :lex_filenum: name of lexicographer file containing the synset for the sense (2 digit int)\n",
      " |      :lex_id:      when paired with lemma, uniquely identifies a sense in the lexicographer file (2 digit int)\n",
      " |      :head_word:   lemma of the first word in satellite's head synset\n",
      " |                    Only used if sense is in an adjective satellite synset\n",
      " |      :head_id:     uniquely identifies sense in a lexicographer file when paired with head_word\n",
      " |                    Only used if head_word is present (2 digit int)\n",
      " |      \n",
      " |      >>> import nltk\n",
      " |      >>> from nltk.corpus import wordnet as wn\n",
      " |      >>> print(wn.synset_from_sense_key(\"drive%1:04:03::\"))\n",
      " |      Synset('drive.n.06')\n",
      " |      \n",
      " |      >>> print(wn.synset_from_sense_key(\"driving%1:04:03::\"))\n",
      " |      Synset('drive.n.06')\n",
      " |  \n",
      " |  synsets(self, lemma, pos=None, lang='eng', check_exceptions=True)\n",
      " |      Load all synsets with a given lemma and part of speech tag.\n",
      " |      If no pos is specified, all synsets for all parts of speech\n",
      " |      will be loaded.\n",
      " |      If lang is specified, all the synsets associated with the lemma name\n",
      " |      of that language will be returned.\n",
      " |  \n",
      " |  words(self, lang='eng')\n",
      " |      return lemmas of the given language as list of words\n",
      " |  \n",
      " |  wup_similarity(self, synset1, synset2, verbose=False, simulate_root=True)\n",
      " |      Wu-Palmer Similarity:\n",
      " |      Return a score denoting how similar two word senses are, based on the\n",
      " |      depth of the two senses in the taxonomy and that of their Least Common\n",
      " |      Subsumer (most specific ancestor node). Previously, the scores computed\n",
      " |      by this implementation did _not_ always agree with those given by\n",
      " |      Pedersen's Perl implementation of WordNet Similarity. However, with\n",
      " |      the addition of the simulate_root flag (see below), the score for\n",
      " |      verbs now almost always agree but not always for nouns.\n",
      " |      \n",
      " |      The LCS does not necessarily feature in the shortest path connecting\n",
      " |      the two senses, as it is by definition the common ancestor deepest in\n",
      " |      the taxonomy, not closest to the two senses. Typically, however, it\n",
      " |      will so feature. Where multiple candidates for the LCS exist, that\n",
      " |      whose shortest path to the root node is the longest will be selected.\n",
      " |      Where the LCS has multiple paths to the root, the longer path is used\n",
      " |      for the purposes of the calculation.\n",
      " |      \n",
      " |      :type  other: Synset\n",
      " |      :param other: The ``Synset`` that this ``Synset`` is being compared to.\n",
      " |      :type simulate_root: bool\n",
      " |      :param simulate_root: The various verb taxonomies do not\n",
      " |          share a single root which disallows this metric from working for\n",
      " |          synsets that are not connected. This flag (True by default)\n",
      " |          creates a fake root that connects all the taxonomies. Set it\n",
      " |          to false to disable this behavior. For the noun taxonomy,\n",
      " |          there is usually a default root except for WordNet version 1.6.\n",
      " |          If you are using wordnet 1.6, a fake root will be added for nouns\n",
      " |          as well.\n",
      " |      :return: A float score denoting the similarity of the two ``Synset``\n",
      " |          objects, normally greater than zero. If no connecting path between\n",
      " |          the two senses can be found, None is returned.\n",
      " |  \n",
      " |  ----------------------------------------------------------------------\n",
      " |  Data and other attributes defined here:\n",
      " |  \n",
      " |  ADJ = 'a'\n",
      " |  \n",
      " |  ADJ_SAT = 's'\n",
      " |  \n",
      " |  ADV = 'r'\n",
      " |  \n",
      " |  MORPHOLOGICAL_SUBSTITUTIONS = {'a': [('er', ''), ('est', ''), ('er', '...\n",
      " |  \n",
      " |  NOUN = 'n'\n",
      " |  \n",
      " |  VERB = 'v'\n",
      " |  \n",
      " |  ----------------------------------------------------------------------\n",
      " |  Methods inherited from nltk.corpus.reader.api.CorpusReader:\n",
      " |  \n",
      " |  __repr__(self)\n",
      " |      Return repr(self).\n",
      " |  \n",
      " |  abspath(self, fileid)\n",
      " |      Return the absolute path for the given file.\n",
      " |      \n",
      " |      :type fileid: str\n",
      " |      :param fileid: The file identifier for the file whose path\n",
      " |          should be returned.\n",
      " |      :rtype: PathPointer\n",
      " |  \n",
      " |  abspaths(self, fileids=None, include_encoding=False, include_fileid=False)\n",
      " |      Return a list of the absolute paths for all fileids in this corpus;\n",
      " |      or for the given list of fileids, if specified.\n",
      " |      \n",
      " |      :type fileids: None or str or list\n",
      " |      :param fileids: Specifies the set of fileids for which paths should\n",
      " |          be returned.  Can be None, for all fileids; a list of\n",
      " |          file identifiers, for a specified set of fileids; or a single\n",
      " |          file identifier, for a single file.  Note that the return\n",
      " |          value is always a list of paths, even if ``fileids`` is a\n",
      " |          single file identifier.\n",
      " |      \n",
      " |      :param include_encoding: If true, then return a list of\n",
      " |          ``(path_pointer, encoding)`` tuples.\n",
      " |      \n",
      " |      :rtype: list(PathPointer)\n",
      " |  \n",
      " |  encoding(self, file)\n",
      " |      Return the unicode encoding for the given corpus file, if known.\n",
      " |      If the encoding is unknown, or if the given file should be\n",
      " |      processed using byte strings (str), then return None.\n",
      " |  \n",
      " |  ensure_loaded(self)\n",
      " |      Load this corpus (if it has not already been loaded).  This is\n",
      " |      used by LazyCorpusLoader as a simple method that can be used to\n",
      " |      make sure a corpus is loaded -- e.g., in case a user wants to\n",
      " |      do help(some_corpus).\n",
      " |  \n",
      " |  fileids(self)\n",
      " |      Return a list of file identifiers for the fileids that make up\n",
      " |      this corpus.\n",
      " |  \n",
      " |  open(self, file)\n",
      " |      Return an open stream that can be used to read the given file.\n",
      " |      If the file's encoding is not None, then the stream will\n",
      " |      automatically decode the file's contents into unicode.\n",
      " |      \n",
      " |      :param file: The file identifier of the file to read.\n",
      " |  \n",
      " |  raw(self, fileids=None)\n",
      " |      :param fileids: A list specifying the fileids that should be used.\n",
      " |      :return: the given file(s) as a single string.\n",
      " |      :rtype: str\n",
      " |  \n",
      " |  ----------------------------------------------------------------------\n",
      " |  Readonly properties inherited from nltk.corpus.reader.api.CorpusReader:\n",
      " |  \n",
      " |  root\n",
      " |      The directory where this corpus is stored.\n",
      " |      \n",
      " |      :type: PathPointer\n",
      " |  \n",
      " |  ----------------------------------------------------------------------\n",
      " |  Data descriptors inherited from nltk.corpus.reader.api.CorpusReader:\n",
      " |  \n",
      " |  __dict__\n",
      " |      dictionary for instance variables (if defined)\n",
      " |  \n",
      " |  __weakref__\n",
      " |      list of weak references to the object (if defined)\n",
      "\n"
     ]
    }
   ],
   "source": [
    "help(wn)"
   ]
  },
  {
   "cell_type": "code",
   "execution_count": 77,
   "id": "b31afd86",
   "metadata": {},
   "outputs": [
    {
     "name": "stdout",
     "output_type": "stream",
     "text": [
      "digraph G {\n",
      "\"Synset('whole.n.02')\" -> \"Synset('object.n.01')\";\n",
      "\"Synset('object.n.01')\" -> \"Synset('physical_entity.n.01')\";\n",
      "\"Synset('net.n.02')\" -> \"Synset('trap.n.01')\";\n",
      "\"Synset('artifact.n.01')\" -> \"Synset('whole.n.02')\";\n",
      "\"Synset('trap.n.01')\" -> \"Synset('device.n.01')\";\n",
      "\"Synset('device.n.01')\" -> \"Synset('instrumentality.n.03')\";\n",
      "\"Synset('instrumentality.n.03')\" -> \"Synset('artifact.n.01')\";\n",
      "\"Synset('physical_entity.n.01')\" -> \"Synset('entity.n.01')\";\n",
      "}\n",
      "\n"
     ]
    }
   ],
   "source": [
    "print(wn.digraph([wn.synset('net.n.02')]))"
   ]
  },
  {
   "cell_type": "code",
   "execution_count": 78,
   "id": "14f7794f",
   "metadata": {},
   "outputs": [
    {
     "name": "stdout",
     "output_type": "stream",
     "text": [
      "<internet.n.01: PosScore=0.0 NegScore=0.0>\n",
      "1.0\n"
     ]
    }
   ],
   "source": [
    "netswn1 = swn.senti_synset('net.n.01')\n",
    "print(netswn1)\n",
    "print(netswn1.obj_score())"
   ]
  },
  {
   "cell_type": "code",
   "execution_count": null,
   "id": "b0eb9f77",
   "metadata": {},
   "outputs": [],
   "source": []
  }
 ],
 "metadata": {
  "kernelspec": {
   "display_name": "Python 3 (ipykernel)",
   "language": "python",
   "name": "python3"
  },
  "language_info": {
   "codemirror_mode": {
    "name": "ipython",
    "version": 3
   },
   "file_extension": ".py",
   "mimetype": "text/x-python",
   "name": "python",
   "nbconvert_exporter": "python",
   "pygments_lexer": "ipython3",
   "version": "3.9.12"
  }
 },
 "nbformat": 4,
 "nbformat_minor": 5
}
